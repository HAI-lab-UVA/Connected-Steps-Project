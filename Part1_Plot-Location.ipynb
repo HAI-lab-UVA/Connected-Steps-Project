{
 "cells": [
  {
   "cell_type": "markdown",
   "metadata": {},
   "source": [
    "# Use All data from all_f\n",
    "I don't know how to config the local database with jupyter notebook online so I would suggest download this notebook and run locally. "
   ]
  },
  {
   "cell_type": "markdown",
   "metadata": {},
   "source": [
    "### connect to database"
   ]
  },
  {
   "cell_type": "code",
   "execution_count": 1,
   "metadata": {},
   "outputs": [],
   "source": [
    "import mysql.connector as mysql\n",
    "\n",
    "db = mysql.connect(\n",
    "    host = \"localhost\",\n",
    "    user = \"root\",\n",
    "    passwd = \"\",\n",
    "    database = \"ubicomp\"\n",
    ")\n",
    "\n",
    "cursor = db.cursor()\n",
    "\n",
    "cursor.execute(\"SHOW TABLES\")\n",
    "tables = cursor.fetchall()\n",
    "\n",
    "query = \"SELECT DISTINCT activity_device_id FROM all_f\" \n",
    "cursor.execute(query)\n",
    "devices = cursor.fetchall()"
   ]
  },
  {
   "cell_type": "code",
   "execution_count": 2,
   "metadata": {},
   "outputs": [
    {
     "name": "stdout",
     "output_type": "stream",
     "text": [
      "[('2efe8a85-d266-4c12-8b11-429f746cedeb',), ('42126b77-ba32-476f-9087-46db1508e6ef',), ('ca70c3d0-cfcc-4164-a131-758721cbad1a',), ('a12ea3b2-11d7-48a1-bb44-a5b6956f2f1f',), ('d481e337-939e-421b-b76a-f3dbfb359f4a',), ('91554e29-e6b8-4ab7-81ee-133f93ba7a52',)]\n"
     ]
    }
   ],
   "source": [
    "print (devices)"
   ]
  },
  {
   "cell_type": "markdown",
   "metadata": {},
   "source": [
    "### Query by device_id and timestamp"
   ]
  },
  {
   "cell_type": "code",
   "execution_count": 133,
   "metadata": {},
   "outputs": [
    {
     "name": "stdout",
     "output_type": "stream",
     "text": [
      "38.032928466797 -78.504362410326 1572033830962.0\n",
      "38.033966064453 -78.506697760634 1572033830962.0\n",
      "38.032928466797 -78.504362410326 1572034010372.0\n",
      "38.033966064453 -78.506697760634 1572034010372.0\n",
      "38.033050537109 -78.508001452659 1572034010372.0\n",
      "5\n",
      "-----------------------------------------\n",
      "38.033233642578 -78.504377799061 1572033899276.0\n",
      "38.033249845561 -78.504255988721 1572033899276.0\n",
      "38.034393310547 -78.506055362959 1572033899276.0\n",
      "38.034393310547 -78.506055362959 1572034079311.0\n",
      "38.033020019531 -78.507717370548 1572034079311.0\n",
      "-----------------------------------------\n"
     ]
    }
   ],
   "source": [
    "## Jessie data from 16:02 to 16:09 \n",
    "## local timestamp: 1572033720000,1572034140000\n",
    "\n",
    "query = \"SELECT DISTINCT double_latitude, double_longitude,activity_timestamp FROM all_f WHERE (activity_device_id='2efe8a85-d266-4c12-8b11-429f746cedeb' and activity_timestamp>=1572033720000 and activity_timestamp<=1572034140000)\"\n",
    "cursor.execute(query)\n",
    "records = cursor.fetchall()\n",
    "\n",
    "la1 = []\n",
    "lo1 = []\n",
    "for record in records:\n",
    "    la1.append(record[0])\n",
    "    lo1.append(record[1])\n",
    "    print (str(record[0]) + \" \"+ str(record[1]) + \" \"+ str(record[2])) #print out latitude, longitude, and timestamp\n",
    "\n",
    "print (len(records))\n",
    "\n",
    "print (\"-----------------------------------------\")\n",
    "\n",
    "\n",
    "## Candice data from 16:03 to 16:09\n",
    "query = \"SELECT DISTINCT double_latitude, double_longitude,activity_timestamp FROM all_f WHERE (activity_device_id='a12ea3b2-11d7-48a1-bb44-a5b6956f2f1f' and activity_timestamp>=1572033720000 and activity_timestamp<=1572034140000)\"\n",
    "cursor.execute(query)\n",
    "records = cursor.fetchall()\n",
    "\n",
    "la2 = []\n",
    "lo2 = []\n",
    "for record in records:\n",
    "    la2.append(record[0])\n",
    "    lo2.append(record[1])\n",
    "    print (str(record[0]) + \" \"+ str(record[1]) + \" \" + str(record[2]))\n",
    "    \n",
    "print (\"-----------------------------------------\")    \n"
   ]
  },
  {
   "cell_type": "markdown",
   "metadata": {},
   "source": [
    "### Plotting"
   ]
  },
  {
   "cell_type": "code",
   "execution_count": 134,
   "metadata": {},
   "outputs": [
    {
     "data": {
      "image/png": "[encoded data removed]",
      "text/plain": [
       "<Figure size 216x216 with 1 Axes>"
      ]
     },
     "metadata": {},
     "output_type": "display_data"
    },
    {
     "data": {
      "image/png": "[encoded data removed]",
      "text/plain": [
       "<Figure size 216x216 with 1 Axes>"
      ]
     },
     "metadata": {},
     "output_type": "display_data"
    }
   ],
   "source": [
    "from mpl_toolkits import mplot3d\n",
    "from datetime import datetime\n",
    "%matplotlib inline\n",
    "import numpy as np\n",
    "import matplotlib.pyplot as plt\n",
    "from datetime import datetime\n",
    "\n",
    "fig = plt.figure()\n",
    "ax = plt.subplot(111)\n",
    "ax.plot(la1, lo1, )\n",
    "plt.axis('off')\n",
    "fig.set_size_inches(3, 3)\n",
    "fig.savefig(\"###path\")\n",
    "\n",
    "fig = plt.figure()\n",
    "ax = plt.subplot(111)\n",
    "ax.plot(la2, lo2, )\n",
    "plt.axis('off')\n",
    "fig.set_size_inches(3, 3)\n",
    "fig.savefig(\"###path\")"
   ]
  },
  {
   "cell_type": "markdown",
   "metadata": {},
   "source": [
    "### Other data I plotted using the above code"
   ]
  },
  {
   "cell_type": "markdown",
   "metadata": {},
   "source": [
    "# steven data"
   ]
  },
  {
   "cell_type": "code",
   "execution_count": 2,
   "metadata": {},
   "outputs": [
    {
     "name": "stdout",
     "output_type": "stream",
     "text": [
      "38.040283203125 -78.514847025339\n",
      "38.035869499559 -78.501086087089\n",
      "38.035858154297 -78.501086087089\n",
      "38.040283203125 -78.514847025339\n",
      "38.035869499559 -78.501086087089\n",
      "38.035858154297 -78.501086087089\n",
      "38.035869499559 -78.501086087089\n",
      "38.035858154297 -78.501086087089\n",
      "38.034332275391 -78.500028078251\n",
      "38.034332275391 -78.500028078251\n",
      "38.034362792969 -78.499374745621\n",
      "38.034332275391 -78.500028078251\n",
      "38.034362792969 -78.499374745621\n",
      "38.034332275391 -78.500028078251\n",
      "38.034362792969 -78.499374745621\n",
      "15\n",
      "-----------------------------------------\n",
      "38.036437988281 -78.506150926693\n",
      "38.035980224609 -78.504881090789\n",
      "38.037730165825 -78.502742156633\n",
      "38.035552978516 -78.501097765005\n",
      "38.034637451172 -78.499341264271\n",
      "38.035339355469 -78.501050630645\n"
     ]
    }
   ],
   "source": [
    "\n",
    "## Jessic data from 17:03 to 17:16 on 2019/10/26\n",
    "query = \"SELECT double_latitude, double_longitude FROM all_f WHERE (activity_device_id='2efe8a85-d266-4c12-8b11-429f746cedeb' and activity_timestamp>=1572123780000 and activity_timestamp<=1572124560000)\"\n",
    "cursor.execute(query)\n",
    "records = cursor.fetchall()\n",
    "\n",
    "la1 = []\n",
    "lo1 = []\n",
    "for record in records:\n",
    "    la1.append(record[0])\n",
    "    lo1.append(record[1])\n",
    "    print (str(record[0]) + \" \"+ str(record[1]))\n",
    "\n",
    "print (len(records))\n",
    "\n",
    "print (\"-----------------------------------------\")\n",
    "\n",
    "\n",
    "##  data from 17:03 to 17:16 on 2019/10/26\n",
    "query = \"SELECT DISTINCT double_latitude, double_longitude FROM all_f WHERE (activity_device_id='d481e337-939e-421b-b76a-f3dbfb359f4a' and activity_timestamp>=1572123780000 and activity_timestamp<=1572124560000)\"\n",
    "cursor.execute(query)\n",
    "records = cursor.fetchall()\n",
    "\n",
    "la2 = []\n",
    "lo2 = []\n",
    "for record in records:\n",
    "    la2.append(record[0])\n",
    "    lo2.append(record[1])\n",
    "    print (str(record[0]) + \" \"+ str(record[1]) )\n",
    "    \n",
    "\n"
   ]
  },
  {
   "cell_type": "code",
   "execution_count": 126,
   "metadata": {},
   "outputs": [
    {
     "data": {
      "image/png": "[encoded data removed]",
      "text/plain": [
       "<Figure size 216x216 with 1 Axes>"
      ]
     },
     "metadata": {},
     "output_type": "display_data"
    },
    {
     "data": {
      "image/png": "[encoded data removed]",
      "text/plain": [
       "<Figure size 216x216 with 1 Axes>"
      ]
     },
     "metadata": {},
     "output_type": "display_data"
    }
   ],
   "source": [
    "# fig = plt.figure(figsize=(20,10))\n",
    "\n",
    "# ax = fig.add_subplot(2, 4, 1)\n",
    "# ax.scatter(la1, lo1)\n",
    "# ax.axis('off')\n",
    "\n",
    "# ax = fig.add_subplot(2, 4, 2)\n",
    "# ax.scatter(la2, lo2)\n",
    "# ax.axis('off')\n",
    "\n",
    "fig = plt.figure()\n",
    "ax = plt.subplot(111)\n",
    "ax.plot(la1, lo1, )\n",
    "plt.axis('off')\n",
    "fig.set_size_inches(3, 3)\n",
    "fig.savefig(\"/3.png\")\n",
    "\n",
    "fig = plt.figure()\n",
    "ax = plt.subplot(111)\n",
    "ax.plot(la2, lo2, )\n",
    "plt.axis('off')\n",
    "fig.set_size_inches(3, 3)\n",
    "fig.savefig(\"/4.png\")"
   ]
  },
  {
   "cell_type": "code",
   "execution_count": 88,
   "metadata": {},
   "outputs": [
    {
     "name": "stdout",
     "output_type": "stream",
     "text": [
      "[38.033050537109, 38.031400138059, 38.031341552734, 38.031433105469]\n"
     ]
    }
   ],
   "source": [
    "print (la3)"
   ]
  },
  {
   "cell_type": "markdown",
   "metadata": {},
   "source": [
    "# zhenzhen data\n"
   ]
  },
  {
   "cell_type": "code",
   "execution_count": 123,
   "metadata": {},
   "outputs": [
    {
     "name": "stdout",
     "output_type": "stream",
     "text": [
      "38.033782958984 -78.507996016194\n",
      "38.033965554414 -78.506727989867\n",
      "38.033264160156 -78.508297333703\n",
      "38.033660888672 -78.509648253929\n",
      "38.02976427 -78.51315176\n",
      "38.033538818359 -78.510137321937\n",
      "38.031707763672 -78.511099193224\n",
      "38.031890869141 -78.511183101821\n",
      "8\n",
      "-----------------------------------------\n",
      "38.031158447266 -78.50810717133\n",
      "38.031036376953 -78.508195203316\n",
      "38.031066894531 -78.508123498641\n",
      "38.031127929688 -78.508147308298\n"
     ]
    }
   ],
   "source": [
    "\n",
    "## Jessic data from 17:03 to 17:16 on 2019/10/26\n",
    "query = \"SELECT DISTINCT double_latitude, double_longitude FROM all_f WHERE (activity_device_id='2efe8a85-d266-4c12-8b11-429f746cedeb' and activity_timestamp>=1572381600000 and activity_timestamp<=1572382140000)\"\n",
    "cursor.execute(query)\n",
    "records = cursor.fetchall()\n",
    "\n",
    "la1 = []\n",
    "lo1 = []\n",
    "for record in records:\n",
    "    la1.append(record[0])\n",
    "    lo1.append(record[1])\n",
    "    print (str(record[0]) + \" \"+ str(record[1]))\n",
    "\n",
    "print (len(records))\n",
    "\n",
    "print (\"-----------------------------------------\")\n",
    "\n",
    "\n",
    "##  data from 17:03 to 17:16 on 2019/10/26\n",
    "query = \"SELECT DISTINCT double_latitude, double_longitude FROM all_f WHERE (activity_device_id='d481e337-939e-421b-b76a-f3dbfb359f4a' and activity_timestamp>=1572381600000 and activity_timestamp<=1572382140000)\"\n",
    "cursor.execute(query)\n",
    "records = cursor.fetchall()\n",
    "\n",
    "la2 = []\n",
    "lo2 = []\n",
    "for record in records:\n",
    "    la2.append(record[0])\n",
    "    lo2.append(record[1])\n",
    "    print (str(record[0]) + \" \"+ str(record[1]))\n",
    "    \n"
   ]
  },
  {
   "cell_type": "code",
   "execution_count": 124,
   "metadata": {},
   "outputs": [
    {
     "data": {
      "image/png": "[encoded data removed]",
      "text/plain": [
       "<Figure size 216x216 with 1 Axes>"
      ]
     },
     "metadata": {},
     "output_type": "display_data"
    },
    {
     "data": {
      "image/png": "[encoded data removed]",
      "text/plain": [
       "<Figure size 216x216 with 1 Axes>"
      ]
     },
     "metadata": {},
     "output_type": "display_data"
    }
   ],
   "source": [
    "fig = plt.figure()\n",
    "ax = plt.subplot(111)\n",
    "ax.plot(la1, lo1, )\n",
    "plt.axis('off')\n",
    "fig.set_size_inches(3, 3)\n",
    "fig.savefig(\"/5.png\")\n",
    "\n",
    "fig = plt.figure()\n",
    "ax = plt.subplot(111)\n",
    "ax.plot(la2, lo2, )\n",
    "plt.axis('off')\n",
    "fig.set_size_inches(3, 3)\n",
    "fig.savefig(\"/6.png\")"
   ]
  },
  {
   "cell_type": "markdown",
   "metadata": {},
   "source": [
    "# Wendy data"
   ]
  },
  {
   "cell_type": "code",
   "execution_count": 127,
   "metadata": {},
   "outputs": [
    {
     "name": "stdout",
     "output_type": "stream",
     "text": [
      "38.034881591797 -78.509920542034\n",
      "38.034851074219 -78.509900229456\n",
      "38.034881591797 -78.509987952732\n",
      "38.034881591797 -78.509969843221\n",
      "38.034118652344 -78.509874249166\n",
      "38.033996582031 -78.509762178907\n",
      "38.033538818359 -78.509669093853\n",
      "38.033294677734 -78.510760079959\n",
      "38.033416748047 -78.511080293909\n",
      "38.033447265625 -78.511084990323\n",
      "38.033416748047 -78.511081536806\n",
      "11\n",
      "-----------------------------------------\n",
      "38.034881591797 -78.509959085521\n",
      "38.033874511719 -78.50830140335\n"
     ]
    }
   ],
   "source": [
    "\n",
    "## Jessic data from 17:03 to 17:16 on 2019/10/26\n",
    "query = \"SELECT DISTINCT double_latitude, double_longitude FROM all_f WHERE (activity_device_id='2efe8a85-d266-4c12-8b11-429f746cedeb' and activity_timestamp>=1572462840000 and activity_timestamp<=1572463020000)\"\n",
    "cursor.execute(query)\n",
    "records = cursor.fetchall()\n",
    "\n",
    "la1 = []\n",
    "lo1 = []\n",
    "for record in records:\n",
    "    la1.append(record[0])\n",
    "    lo1.append(record[1])\n",
    "    print (str(record[0]) + \" \"+ str(record[1]) )\n",
    "\n",
    "print (len(records))\n",
    "\n",
    "print (\"-----------------------------------------\")\n",
    "\n",
    "\n",
    "##  data from 17:03 to 17:16 on 2019/10/26\n",
    "query = \"SELECT DISTINCT double_latitude, double_longitude FROM all_f WHERE (activity_device_id='ca70c3d0-cfcc-4164-a131-758721cbad1a' and activity_timestamp>=1572462840000 and activity_timestamp<=1572463020000)\"\n",
    "cursor.execute(query)\n",
    "records = cursor.fetchall()\n",
    "\n",
    "la2 = []\n",
    "lo2 = []\n",
    "for record in records:\n",
    "    la2.append(record[0])\n",
    "    lo2.append(record[1])\n",
    "    print (str(record[0]) + \" \"+ str(record[1]))\n",
    "    \n"
   ]
  },
  {
   "cell_type": "code",
   "execution_count": 128,
   "metadata": {},
   "outputs": [
    {
     "data": {
      "image/png": "[encoded data removed]",
      "text/plain": [
       "<Figure size 216x216 with 1 Axes>"
      ]
     },
     "metadata": {},
     "output_type": "display_data"
    },
    {
     "data": {
      "image/png": "[encoded data removed]",
      "text/plain": [
       "<Figure size 216x216 with 1 Axes>"
      ]
     },
     "metadata": {},
     "output_type": "display_data"
    }
   ],
   "source": [
    "fig = plt.figure()\n",
    "ax = plt.subplot(111)\n",
    "ax.plot(la1, lo1, )\n",
    "plt.axis('off')\n",
    "fig.set_size_inches(3, 3)\n",
    "fig.savefig(\"/7.png\")\n",
    "\n",
    "fig = plt.figure()\n",
    "ax = plt.subplot(111)\n",
    "ax.plot(la2, lo2, )\n",
    "plt.axis('off')\n",
    "fig.set_size_inches(3, 3)\n",
    "fig.savefig(\"/8.png\")"
   ]
  },
  {
   "cell_type": "markdown",
   "metadata": {},
   "source": [
    "# Youran data on 10/30\n"
   ]
  },
  {
   "cell_type": "code",
   "execution_count": 131,
   "metadata": {},
   "outputs": [
    {
     "name": "stdout",
     "output_type": "stream",
     "text": [
      "38.033416748047 -78.511047659889\n",
      "38.033416748047 -78.511053922605\n",
      "38.033416748047 -78.51104711733\n",
      "38.033416748047 -78.511053918525\n",
      "38.033416748047 -78.511053983112\n",
      "38.033294677734 -78.51080233661\n",
      "38.033660888672 -78.510382030287\n",
      "38.03369140625 -78.509916828429\n",
      "38.033843994141 -78.510038235114\n",
      "38.033416748047 -78.507649943024\n",
      "10\n",
      "-----------------------------------------\n",
      "38.033447265625 -78.511048963929\n",
      "38.033935546875 -78.508556433522\n",
      "38.033386230469 -78.507610829143\n"
     ]
    }
   ],
   "source": [
    "## Jessic data from 17:03 to 17:16 on 2019/10/26\n",
    "query = \"SELECT DISTINCT double_latitude, double_longitude FROM all_f WHERE (activity_device_id='2efe8a85-d266-4c12-8b11-429f746cedeb' and activity_timestamp>=1572464460000 and activity_timestamp<=1572464640000)\"\n",
    "cursor.execute(query)\n",
    "records = cursor.fetchall()\n",
    "\n",
    "la1 = []\n",
    "lo1 = []\n",
    "for record in records:\n",
    "    la1.append(record[0])\n",
    "    lo1.append(record[1])\n",
    "    print (str(record[0]) + \" \"+ str(record[1]) )\n",
    "\n",
    "print (len(records))\n",
    "\n",
    "print (\"-----------------------------------------\")\n",
    "\n",
    "\n",
    "##  data from 17:03 to 17:16 on 2019/10/26\n",
    "query = \"SELECT DISTINCT double_latitude, double_longitude FROM all_f WHERE (activity_device_id='42126b77-ba32-476f-9087-46db1508e6ef' and activity_timestamp>=1572464460000 and activity_timestamp<=1572464640000)\"\n",
    "cursor.execute(query)\n",
    "records = cursor.fetchall()\n",
    "\n",
    "la2 = []\n",
    "lo2 = []\n",
    "for record in records:\n",
    "    la2.append(record[0])\n",
    "    lo2.append(record[1])\n",
    "    print (str(record[0]) + \" \"+ str(record[1]) )"
   ]
  },
  {
   "cell_type": "code",
   "execution_count": 132,
   "metadata": {},
   "outputs": [
    {
     "data": {
      "image/png": "[encoded data removed]",
      "text/plain": [
       "<Figure size 216x216 with 1 Axes>"
      ]
     },
     "metadata": {},
     "output_type": "display_data"
    },
    {
     "data": {
      "image/png": "[encoded data removed]",
      "text/plain": [
       "<Figure size 216x216 with 1 Axes>"
      ]
     },
     "metadata": {},
     "output_type": "display_data"
    }
   ],
   "source": [
    "fig = plt.figure()\n",
    "ax = plt.subplot(111)\n",
    "ax.plot(la1, lo1, )\n",
    "plt.axis('off')\n",
    "fig.set_size_inches(3, 3)\n",
    "fig.savefig(\"/9.png\")\n",
    "\n",
    "fig = plt.figure()\n",
    "ax = plt.subplot(111)\n",
    "ax.plot(la2, lo2, )\n",
    "plt.axis('off')\n",
    "fig.set_size_inches(3, 3)\n",
    "fig.savefig(\"/10.png\")"
   ]
  },
  {
   "cell_type": "code",
   "execution_count": 103,
   "metadata": {},
   "outputs": [
    {
     "name": "stdout",
     "output_type": "stream",
     "text": [
      "38.034851074219 -78.509895092292\n",
      "38.034851074219 -78.509895093892\n",
      "38.034851074219 -78.50989644898\n",
      "38.034851074219 -78.50989509376\n",
      "38.034851074219 -78.509903148728\n",
      "38.034851074219 -78.509895620008\n",
      "38.034851074219 -78.509896677786\n",
      "38.034851074219 -78.509905393438\n",
      "38.034851074219 -78.509895101453\n",
      "38.034851074219 -78.509904688309\n",
      "10\n",
      "-----------------------------------------\n",
      "38.034881591797 -78.510001788882\n",
      "38.034881591797 -78.509952074365\n"
     ]
    }
   ],
   "source": [
    "## Jessic data from 17:03 to 17:16 on 2019/10/26\n",
    "query = \"SELECT DISTINCT double_latitude, double_longitude FROM all_f WHERE (activity_device_id='2efe8a85-d266-4c12-8b11-429f746cedeb' and activity_timestamp>=1572895020000 and activity_timestamp<=1572895200000)\"\n",
    "cursor.execute(query)\n",
    "records = cursor.fetchall()\n",
    "\n",
    "la1 = []\n",
    "lo1 = []\n",
    "for record in records:\n",
    "    la1.append(record[0])\n",
    "    lo1.append(record[1])\n",
    "    print (str(record[0]) + \" \"+ str(record[1]) )\n",
    "\n",
    "print (len(records))\n",
    "\n",
    "print (\"-----------------------------------------\")\n",
    "\n",
    "\n",
    "##  data from 17:03 to 17:16 on 2019/10/26\n",
    "query = \"SELECT DISTINCT double_latitude, double_longitude FROM all_f WHERE (activity_device_id='42126b77-ba32-476f-9087-46db1508e6ef' and activity_timestamp>=1572895020000 and activity_timestamp<=1572895200000)\"\n",
    "cursor.execute(query)\n",
    "records = cursor.fetchall()\n",
    "\n",
    "la2 = []\n",
    "lo2 = []\n",
    "for record in records:\n",
    "    la2.append(record[0])\n",
    "    lo2.append(record[1])\n",
    "    print (str(record[0]) + \" \"+ str(record[1]))"
   ]
  },
  {
   "cell_type": "code",
   "execution_count": 104,
   "metadata": {},
   "outputs": [
    {
     "data": {
      "image/png": "[encoded data removed]",
      "text/plain": [
       "<Figure size 216x216 with 1 Axes>"
      ]
     },
     "metadata": {},
     "output_type": "display_data"
    },
    {
     "data": {
      "image/png": "[encoded data removed]",
      "text/plain": [
       "<Figure size 216x216 with 1 Axes>"
      ]
     },
     "metadata": {},
     "output_type": "display_data"
    }
   ],
   "source": [
    "fig = plt.figure()\n",
    "ax = plt.subplot(111)\n",
    "ax.plot(la1, lo1, )\n",
    "plt.axis('off')\n",
    "fig.set_size_inches(3, 3)\n",
    "fig.savefig(\"/11.png\")\n",
    "\n",
    "fig = plt.figure()\n",
    "ax = plt.subplot(111)\n",
    "ax.plot(la2, lo2, )\n",
    "plt.axis('off')\n",
    "fig.set_size_inches(3, 3)\n",
    "fig.savefig(\"/12.png\")"
   ]
  },
  {
   "cell_type": "code",
   "execution_count": null,
   "metadata": {},
   "outputs": [],
   "source": []
  }
 ],
 "metadata": {
  "kernelspec": {
   "display_name": "Python 3",
   "language": "python",
   "name": "python3"
  },
  "language_info": {
   "codemirror_mode": {
    "name": "ipython",
    "version": 3
   },
   "file_extension": ".py",
   "mimetype": "text/x-python",
   "name": "python",
   "nbconvert_exporter": "python",
   "pygments_lexer": "ipython3",
   "version": "3.7.4"
  }
 },
 "nbformat": 4,
 "nbformat_minor": 2
}
