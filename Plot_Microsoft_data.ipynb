{
 "cells": [
  {
   "cell_type": "code",
   "execution_count": 1,
   "metadata": {},
   "outputs": [],
   "source": [
    "import numpy as np\n",
    "import matplotlib.pyplot as plt\n",
    "from datetime import datetime\n",
    "import time\n",
    "import re\n",
    "from mpl_toolkits import mplot3d\n",
    "import pandas as pd\n",
    "import os\n",
    "import glob\n",
    "\n",
    "n_users = 182\n",
    "column_names = [\"Latitude\", \"Longitude\", \"Zeros\", \"Altitude\", \"Unix_Day\", \"Date\", \"Time\"]"
   ]
  },
  {
   "cell_type": "code",
   "execution_count": 2,
   "metadata": {},
   "outputs": [],
   "source": [
    "def plotLocation(path):\n",
    "    data = np.genfromtxt(path, delimiter=',', dtype=(float, float, float,float,float,object,object),skip_header=6)\n",
    "\n",
    "    latitude = []\n",
    "    longitude=[]\n",
    "    time_list = []\n",
    "                         \n",
    "    for row in data:\n",
    "        \n",
    "        date = row[5].decode(\"utf-8\") + \" \" + row[6].decode(\"utf-8\")\n",
    "        my_time = time.mktime(time.strptime(date, '%Y-%m-%d %H:%M:%S')) # convert to timestamp\n",
    "        \n",
    "        ts = pd.to_datetime(my_time, unit='s')\n",
    "        hour = ts.hour\n",
    "        \n",
    "        latitude.append(row[0])\n",
    "        longitude.append(row[1])\n",
    "\n",
    "\n",
    "        time_list.append(ts.hour)\n",
    "                         \n",
    "    return latitude, longitude,time_list\n",
    "\n",
    "\n",
    "def lat_long_time(user, file_name):\n",
    "\n",
    "    latitude = user[file_name][\"Latitude\"]\n",
    "    longitude = user[file_name][\"Longitude\"]\n",
    "    time = user[file_name][\"Time\"]\n",
    "                         \n",
    "    return latitude, longitude, time\n",
    "\n",
    "\n",
    "def read_all_trajectories():\n",
    "    \n",
    "    all_users = []\n",
    "    \n",
    "    users_strings = [\"{0:03}\".format(i) for i in range(n_users)]\n",
    "\n",
    "    for i in range(n_users):\n",
    "        print(\"reading user {} data\".format(i+1))\n",
    "        all_users.append({})\n",
    "        user_dir = os.getcwd() + \"\\\\Geolife Trajectories 1.3\\\\Data\\\\\" + users_strings[i]\n",
    "        user_data_dir = user_dir + \"\\\\Trajectory\\\\\"\n",
    "        \n",
    "        data_list = glob.glob(user_data_dir + \"*.plt\")\n",
    "                \n",
    "        for j in range(len(data_list)):\n",
    "            file_key = data_list[j][101:115]\n",
    "            all_users[i][file_key] = pd.read_csv(data_list[j], names= column_names, skiprows=6)\n",
    "    \n",
    "    return all_users\n",
    "\n",
    "def read_one_user_trajectories(m):\n",
    "    \n",
    "    user = {}\n",
    "    user_string = \"{0:03}\".format(m)\n",
    "    user_dir = os.getcwd() + \"\\\\Geolife Trajectories 1.3\\\\Data\\\\\" + user_string\n",
    "    user_data_dir = user_dir + \"\\\\Trajectory\\\\\"\n",
    "    data_list = glob.glob(user_data_dir + \"*.plt\")\n",
    "    \n",
    "    \n",
    "    \n",
    "    for j in range(len(data_list)):\n",
    "        file_key = data_list[j][101:115]\n",
    "        user[file_key] = pd.read_csv(data_list[j], names= column_names, skiprows=6)\n",
    "        \n",
    "    return user\n",
    "\n",
    "def plot_user_file(user_id, file_name):\n",
    "    user  = read_one_user_trajectories(user_id)\n",
    "    lat, long, time = lat_long_time(user, file_name)\n",
    "    #long, time = lat_long_time(user_10,'20070804033032')\n",
    "    fig = plt.figure(figsize=(15,15))\n",
    "    ax = fig.add_subplot(2, 2, 1)\n",
    "    ax.scatter(long, lat)\n",
    "    \n",
    "    return"
   ]
  },
  {
   "cell_type": "code",
   "execution_count": 3,
   "metadata": {},
   "outputs": [
    {
     "data": {
      "image/png": "[encoded data removed]",
      "text/plain": [
       "<Figure size 1080x1080 with 1 Axes>"
      ]
     },
     "metadata": {
      "needs_background": "light"
     },
     "output_type": "display_data"
    }
   ],
   "source": [
    "##Reading all users data\n",
    "#users = readdata_plt()\n",
    "##Reading one user data\n",
    "#user_10 = read_one_user_trajectories(10)\n",
    "#user_10\n",
    "plot_user_file(10,'20070804033032')"
   ]
  },
  {
   "cell_type": "code",
   "execution_count": 4,
   "metadata": {},
   "outputs": [
    {
     "data": {
      "text/plain": [
       "['C:/Users/14342/Documents/GitHub/Connected-Steps-Project/Geolife Trajectories 1.3/Data/000/Trajectory\\\\20081023025304.plt',\n",
       " 'C:/Users/14342/Documents/GitHub/Connected-Steps-Project/Geolife Trajectories 1.3/Data/000/Trajectory\\\\20081024020959.plt',\n",
       " 'C:/Users/14342/Documents/GitHub/Connected-Steps-Project/Geolife Trajectories 1.3/Data/000/Trajectory\\\\20081026134407.plt',\n",
       " 'C:/Users/14342/Documents/GitHub/Connected-Steps-Project/Geolife Trajectories 1.3/Data/000/Trajectory\\\\20081027115449.plt',\n",
       " 'C:/Users/14342/Documents/GitHub/Connected-Steps-Project/Geolife Trajectories 1.3/Data/000/Trajectory\\\\20081028003826.plt',\n",
       " 'C:/Users/14342/Documents/GitHub/Connected-Steps-Project/Geolife Trajectories 1.3/Data/000/Trajectory\\\\20081029092138.plt',\n",
       " 'C:/Users/14342/Documents/GitHub/Connected-Steps-Project/Geolife Trajectories 1.3/Data/000/Trajectory\\\\20081029093038.plt',\n",
       " 'C:/Users/14342/Documents/GitHub/Connected-Steps-Project/Geolife Trajectories 1.3/Data/000/Trajectory\\\\20081103101336.plt',\n",
       " 'C:/Users/14342/Documents/GitHub/Connected-Steps-Project/Geolife Trajectories 1.3/Data/000/Trajectory\\\\20081103232153.plt',\n",
       " 'C:/Users/14342/Documents/GitHub/Connected-Steps-Project/Geolife Trajectories 1.3/Data/000/Trajectory\\\\20081110013637.plt',\n",
       " 'C:/Users/14342/Documents/GitHub/Connected-Steps-Project/Geolife Trajectories 1.3/Data/000/Trajectory\\\\20081111001704.plt',\n",
       " 'C:/Users/14342/Documents/GitHub/Connected-Steps-Project/Geolife Trajectories 1.3/Data/000/Trajectory\\\\20081112023003.plt',\n",
       " 'C:/Users/14342/Documents/GitHub/Connected-Steps-Project/Geolife Trajectories 1.3/Data/000/Trajectory\\\\20081112091400.plt',\n",
       " 'C:/Users/14342/Documents/GitHub/Connected-Steps-Project/Geolife Trajectories 1.3/Data/000/Trajectory\\\\20081113034608.plt',\n",
       " 'C:/Users/14342/Documents/GitHub/Connected-Steps-Project/Geolife Trajectories 1.3/Data/000/Trajectory\\\\20081114015255.plt',\n",
       " 'C:/Users/14342/Documents/GitHub/Connected-Steps-Project/Geolife Trajectories 1.3/Data/000/Trajectory\\\\20081114101436.plt',\n",
       " 'C:/Users/14342/Documents/GitHub/Connected-Steps-Project/Geolife Trajectories 1.3/Data/000/Trajectory\\\\20081115010133.plt',\n",
       " 'C:/Users/14342/Documents/GitHub/Connected-Steps-Project/Geolife Trajectories 1.3/Data/000/Trajectory\\\\20081116085532.plt',\n",
       " 'C:/Users/14342/Documents/GitHub/Connected-Steps-Project/Geolife Trajectories 1.3/Data/000/Trajectory\\\\20081117051133.plt',\n",
       " 'C:/Users/14342/Documents/GitHub/Connected-Steps-Project/Geolife Trajectories 1.3/Data/000/Trajectory\\\\20081117155223.plt',\n",
       " 'C:/Users/14342/Documents/GitHub/Connected-Steps-Project/Geolife Trajectories 1.3/Data/000/Trajectory\\\\20081118095005.plt',\n",
       " 'C:/Users/14342/Documents/GitHub/Connected-Steps-Project/Geolife Trajectories 1.3/Data/000/Trajectory\\\\20081118095400.plt',\n",
       " 'C:/Users/14342/Documents/GitHub/Connected-Steps-Project/Geolife Trajectories 1.3/Data/000/Trajectory\\\\20081118162008.plt',\n",
       " 'C:/Users/14342/Documents/GitHub/Connected-Steps-Project/Geolife Trajectories 1.3/Data/000/Trajectory\\\\20081119012806.plt',\n",
       " 'C:/Users/14342/Documents/GitHub/Connected-Steps-Project/Geolife Trajectories 1.3/Data/000/Trajectory\\\\20081119112035.plt',\n",
       " 'C:/Users/14342/Documents/GitHub/Connected-Steps-Project/Geolife Trajectories 1.3/Data/000/Trajectory\\\\20081120035736.plt',\n",
       " 'C:/Users/14342/Documents/GitHub/Connected-Steps-Project/Geolife Trajectories 1.3/Data/000/Trajectory\\\\20081121040936.plt',\n",
       " 'C:/Users/14342/Documents/GitHub/Connected-Steps-Project/Geolife Trajectories 1.3/Data/000/Trajectory\\\\20081121113038.plt',\n",
       " 'C:/Users/14342/Documents/GitHub/Connected-Steps-Project/Geolife Trajectories 1.3/Data/000/Trajectory\\\\20081122012309.plt',\n",
       " 'C:/Users/14342/Documents/GitHub/Connected-Steps-Project/Geolife Trajectories 1.3/Data/000/Trajectory\\\\20081123102153.plt',\n",
       " 'C:/Users/14342/Documents/GitHub/Connected-Steps-Project/Geolife Trajectories 1.3/Data/000/Trajectory\\\\20081201111827.plt',\n",
       " 'C:/Users/14342/Documents/GitHub/Connected-Steps-Project/Geolife Trajectories 1.3/Data/000/Trajectory\\\\20081202071136.plt',\n",
       " 'C:/Users/14342/Documents/GitHub/Connected-Steps-Project/Geolife Trajectories 1.3/Data/000/Trajectory\\\\20081202071531.plt',\n",
       " 'C:/Users/14342/Documents/GitHub/Connected-Steps-Project/Geolife Trajectories 1.3/Data/000/Trajectory\\\\20081203032326.plt',\n",
       " 'C:/Users/14342/Documents/GitHub/Connected-Steps-Project/Geolife Trajectories 1.3/Data/000/Trajectory\\\\20081203151206.plt',\n",
       " 'C:/Users/14342/Documents/GitHub/Connected-Steps-Project/Geolife Trajectories 1.3/Data/000/Trajectory\\\\20081203234939.plt',\n",
       " 'C:/Users/14342/Documents/GitHub/Connected-Steps-Project/Geolife Trajectories 1.3/Data/000/Trajectory\\\\20081210023503.plt',\n",
       " 'C:/Users/14342/Documents/GitHub/Connected-Steps-Project/Geolife Trajectories 1.3/Data/000/Trajectory\\\\20081211044624.plt',\n",
       " 'C:/Users/14342/Documents/GitHub/Connected-Steps-Project/Geolife Trajectories 1.3/Data/000/Trajectory\\\\20081211121432.plt',\n",
       " 'C:/Users/14342/Documents/GitHub/Connected-Steps-Project/Geolife Trajectories 1.3/Data/000/Trajectory\\\\20081212042525.plt',\n",
       " 'C:/Users/14342/Documents/GitHub/Connected-Steps-Project/Geolife Trajectories 1.3/Data/000/Trajectory\\\\20081212101236.plt',\n",
       " 'C:/Users/14342/Documents/GitHub/Connected-Steps-Project/Geolife Trajectories 1.3/Data/000/Trajectory\\\\20081214011036.plt',\n",
       " 'C:/Users/14342/Documents/GitHub/Connected-Steps-Project/Geolife Trajectories 1.3/Data/000/Trajectory\\\\20090330005208.plt',\n",
       " 'C:/Users/14342/Documents/GitHub/Connected-Steps-Project/Geolife Trajectories 1.3/Data/000/Trajectory\\\\20090331003904.plt',\n",
       " 'C:/Users/14342/Documents/GitHub/Connected-Steps-Project/Geolife Trajectories 1.3/Data/000/Trajectory\\\\20090401050607.plt',\n",
       " 'C:/Users/14342/Documents/GitHub/Connected-Steps-Project/Geolife Trajectories 1.3/Data/000/Trajectory\\\\20090401202331.plt',\n",
       " 'C:/Users/14342/Documents/GitHub/Connected-Steps-Project/Geolife Trajectories 1.3/Data/000/Trajectory\\\\20090402060732.plt',\n",
       " 'C:/Users/14342/Documents/GitHub/Connected-Steps-Project/Geolife Trajectories 1.3/Data/000/Trajectory\\\\20090403011657.plt',\n",
       " 'C:/Users/14342/Documents/GitHub/Connected-Steps-Project/Geolife Trajectories 1.3/Data/000/Trajectory\\\\20090405051938.plt',\n",
       " 'C:/Users/14342/Documents/GitHub/Connected-Steps-Project/Geolife Trajectories 1.3/Data/000/Trajectory\\\\20090406023702.plt',\n",
       " 'C:/Users/14342/Documents/GitHub/Connected-Steps-Project/Geolife Trajectories 1.3/Data/000/Trajectory\\\\20090409182800.plt',\n",
       " 'C:/Users/14342/Documents/GitHub/Connected-Steps-Project/Geolife Trajectories 1.3/Data/000/Trajectory\\\\20090410021935.plt',\n",
       " 'C:/Users/14342/Documents/GitHub/Connected-Steps-Project/Geolife Trajectories 1.3/Data/000/Trajectory\\\\20090411052358.plt',\n",
       " 'C:/Users/14342/Documents/GitHub/Connected-Steps-Project/Geolife Trajectories 1.3/Data/000/Trajectory\\\\20090412004905.plt',\n",
       " 'C:/Users/14342/Documents/GitHub/Connected-Steps-Project/Geolife Trajectories 1.3/Data/000/Trajectory\\\\20090412073303.plt',\n",
       " 'C:/Users/14342/Documents/GitHub/Connected-Steps-Project/Geolife Trajectories 1.3/Data/000/Trajectory\\\\20090413050806.plt',\n",
       " 'C:/Users/14342/Documents/GitHub/Connected-Steps-Project/Geolife Trajectories 1.3/Data/000/Trajectory\\\\20090413144632.plt',\n",
       " 'C:/Users/14342/Documents/GitHub/Connected-Steps-Project/Geolife Trajectories 1.3/Data/000/Trajectory\\\\20090413213935.plt',\n",
       " 'C:/Users/14342/Documents/GitHub/Connected-Steps-Project/Geolife Trajectories 1.3/Data/000/Trajectory\\\\20090415000406.plt',\n",
       " 'C:/Users/14342/Documents/GitHub/Connected-Steps-Project/Geolife Trajectories 1.3/Data/000/Trajectory\\\\20090415074008.plt',\n",
       " 'C:/Users/14342/Documents/GitHub/Connected-Steps-Project/Geolife Trajectories 1.3/Data/000/Trajectory\\\\20090416002705.plt',\n",
       " 'C:/Users/14342/Documents/GitHub/Connected-Steps-Project/Geolife Trajectories 1.3/Data/000/Trajectory\\\\20090417002430.plt',\n",
       " 'C:/Users/14342/Documents/GitHub/Connected-Steps-Project/Geolife Trajectories 1.3/Data/000/Trajectory\\\\20090418172238.plt',\n",
       " 'C:/Users/14342/Documents/GitHub/Connected-Steps-Project/Geolife Trajectories 1.3/Data/000/Trajectory\\\\20090419005226.plt',\n",
       " 'C:/Users/14342/Documents/GitHub/Connected-Steps-Project/Geolife Trajectories 1.3/Data/000/Trajectory\\\\20090419175500.plt',\n",
       " 'C:/Users/14342/Documents/GitHub/Connected-Steps-Project/Geolife Trajectories 1.3/Data/000/Trajectory\\\\20090420013034.plt',\n",
       " 'C:/Users/14342/Documents/GitHub/Connected-Steps-Project/Geolife Trajectories 1.3/Data/000/Trajectory\\\\20090420235106.plt',\n",
       " 'C:/Users/14342/Documents/GitHub/Connected-Steps-Project/Geolife Trajectories 1.3/Data/000/Trajectory\\\\20090422023859.plt',\n",
       " 'C:/Users/14342/Documents/GitHub/Connected-Steps-Project/Geolife Trajectories 1.3/Data/000/Trajectory\\\\20090422203607.plt',\n",
       " 'C:/Users/14342/Documents/GitHub/Connected-Steps-Project/Geolife Trajectories 1.3/Data/000/Trajectory\\\\20090423092838.plt',\n",
       " 'C:/Users/14342/Documents/GitHub/Connected-Steps-Project/Geolife Trajectories 1.3/Data/000/Trajectory\\\\20090423181101.plt',\n",
       " 'C:/Users/14342/Documents/GitHub/Connected-Steps-Project/Geolife Trajectories 1.3/Data/000/Trajectory\\\\20090424004737.plt',\n",
       " 'C:/Users/14342/Documents/GitHub/Connected-Steps-Project/Geolife Trajectories 1.3/Data/000/Trajectory\\\\20090424171137.plt',\n",
       " 'C:/Users/14342/Documents/GitHub/Connected-Steps-Project/Geolife Trajectories 1.3/Data/000/Trajectory\\\\20090425005731.plt',\n",
       " 'C:/Users/14342/Documents/GitHub/Connected-Steps-Project/Geolife Trajectories 1.3/Data/000/Trajectory\\\\20090426025714.plt',\n",
       " 'C:/Users/14342/Documents/GitHub/Connected-Steps-Project/Geolife Trajectories 1.3/Data/000/Trajectory\\\\20090426175513.plt',\n",
       " 'C:/Users/14342/Documents/GitHub/Connected-Steps-Project/Geolife Trajectories 1.3/Data/000/Trajectory\\\\20090427010230.plt',\n",
       " 'C:/Users/14342/Documents/GitHub/Connected-Steps-Project/Geolife Trajectories 1.3/Data/000/Trajectory\\\\20090427215826.plt',\n",
       " 'C:/Users/14342/Documents/GitHub/Connected-Steps-Project/Geolife Trajectories 1.3/Data/000/Trajectory\\\\20090428051631.plt',\n",
       " 'C:/Users/14342/Documents/GitHub/Connected-Steps-Project/Geolife Trajectories 1.3/Data/000/Trajectory\\\\20090429005954.plt',\n",
       " 'C:/Users/14342/Documents/GitHub/Connected-Steps-Project/Geolife Trajectories 1.3/Data/000/Trajectory\\\\20090430032332.plt',\n",
       " 'C:/Users/14342/Documents/GitHub/Connected-Steps-Project/Geolife Trajectories 1.3/Data/000/Trajectory\\\\20090501035138.plt',\n",
       " 'C:/Users/14342/Documents/GitHub/Connected-Steps-Project/Geolife Trajectories 1.3/Data/000/Trajectory\\\\20090502074907.plt',\n",
       " 'C:/Users/14342/Documents/GitHub/Connected-Steps-Project/Geolife Trajectories 1.3/Data/000/Trajectory\\\\20090503033926.plt',\n",
       " 'C:/Users/14342/Documents/GitHub/Connected-Steps-Project/Geolife Trajectories 1.3/Data/000/Trajectory\\\\20090504023301.plt',\n",
       " 'C:/Users/14342/Documents/GitHub/Connected-Steps-Project/Geolife Trajectories 1.3/Data/000/Trajectory\\\\20090504203925.plt',\n",
       " 'C:/Users/14342/Documents/GitHub/Connected-Steps-Project/Geolife Trajectories 1.3/Data/000/Trajectory\\\\20090505032432.plt',\n",
       " 'C:/Users/14342/Documents/GitHub/Connected-Steps-Project/Geolife Trajectories 1.3/Data/000/Trajectory\\\\20090505195337.plt',\n",
       " 'C:/Users/14342/Documents/GitHub/Connected-Steps-Project/Geolife Trajectories 1.3/Data/000/Trajectory\\\\20090506125906.plt',\n",
       " 'C:/Users/14342/Documents/GitHub/Connected-Steps-Project/Geolife Trajectories 1.3/Data/000/Trajectory\\\\20090507024201.plt',\n",
       " 'C:/Users/14342/Documents/GitHub/Connected-Steps-Project/Geolife Trajectories 1.3/Data/000/Trajectory\\\\20090507192952.plt',\n",
       " 'C:/Users/14342/Documents/GitHub/Connected-Steps-Project/Geolife Trajectories 1.3/Data/000/Trajectory\\\\20090508015405.plt',\n",
       " 'C:/Users/14342/Documents/GitHub/Connected-Steps-Project/Geolife Trajectories 1.3/Data/000/Trajectory\\\\20090508100431.plt',\n",
       " 'C:/Users/14342/Documents/GitHub/Connected-Steps-Project/Geolife Trajectories 1.3/Data/000/Trajectory\\\\20090509050136.plt',\n",
       " 'C:/Users/14342/Documents/GitHub/Connected-Steps-Project/Geolife Trajectories 1.3/Data/000/Trajectory\\\\20090509181636.plt',\n",
       " 'C:/Users/14342/Documents/GitHub/Connected-Steps-Project/Geolife Trajectories 1.3/Data/000/Trajectory\\\\20090510020206.plt',\n",
       " 'C:/Users/14342/Documents/GitHub/Connected-Steps-Project/Geolife Trajectories 1.3/Data/000/Trajectory\\\\20090510222007.plt',\n",
       " 'C:/Users/14342/Documents/GitHub/Connected-Steps-Project/Geolife Trajectories 1.3/Data/000/Trajectory\\\\20090511064136.plt',\n",
       " 'C:/Users/14342/Documents/GitHub/Connected-Steps-Project/Geolife Trajectories 1.3/Data/000/Trajectory\\\\20090511174427.plt',\n",
       " 'C:/Users/14342/Documents/GitHub/Connected-Steps-Project/Geolife Trajectories 1.3/Data/000/Trajectory\\\\20090512013109.plt',\n",
       " 'C:/Users/14342/Documents/GitHub/Connected-Steps-Project/Geolife Trajectories 1.3/Data/000/Trajectory\\\\20090512195558.plt',\n",
       " 'C:/Users/14342/Documents/GitHub/Connected-Steps-Project/Geolife Trajectories 1.3/Data/000/Trajectory\\\\20090513054336.plt',\n",
       " 'C:/Users/14342/Documents/GitHub/Connected-Steps-Project/Geolife Trajectories 1.3/Data/000/Trajectory\\\\20090514015425.plt',\n",
       " 'C:/Users/14342/Documents/GitHub/Connected-Steps-Project/Geolife Trajectories 1.3/Data/000/Trajectory\\\\20090515014004.plt',\n",
       " 'C:/Users/14342/Documents/GitHub/Connected-Steps-Project/Geolife Trajectories 1.3/Data/000/Trajectory\\\\20090516091038.plt',\n",
       " 'C:/Users/14342/Documents/GitHub/Connected-Steps-Project/Geolife Trajectories 1.3/Data/000/Trajectory\\\\20090517054624.plt',\n",
       " 'C:/Users/14342/Documents/GitHub/Connected-Steps-Project/Geolife Trajectories 1.3/Data/000/Trajectory\\\\20090517220626.plt',\n",
       " 'C:/Users/14342/Documents/GitHub/Connected-Steps-Project/Geolife Trajectories 1.3/Data/000/Trajectory\\\\20090518064638.plt',\n",
       " 'C:/Users/14342/Documents/GitHub/Connected-Steps-Project/Geolife Trajectories 1.3/Data/000/Trajectory\\\\20090519094537.plt',\n",
       " 'C:/Users/14342/Documents/GitHub/Connected-Steps-Project/Geolife Trajectories 1.3/Data/000/Trajectory\\\\20090519174038.plt',\n",
       " 'C:/Users/14342/Documents/GitHub/Connected-Steps-Project/Geolife Trajectories 1.3/Data/000/Trajectory\\\\20090520010901.plt',\n",
       " 'C:/Users/14342/Documents/GitHub/Connected-Steps-Project/Geolife Trajectories 1.3/Data/000/Trajectory\\\\20090520125535.plt',\n",
       " 'C:/Users/14342/Documents/GitHub/Connected-Steps-Project/Geolife Trajectories 1.3/Data/000/Trajectory\\\\20090520210235.plt',\n",
       " 'C:/Users/14342/Documents/GitHub/Connected-Steps-Project/Geolife Trajectories 1.3/Data/000/Trajectory\\\\20090521045307.plt',\n",
       " 'C:/Users/14342/Documents/GitHub/Connected-Steps-Project/Geolife Trajectories 1.3/Data/000/Trajectory\\\\20090521231053.plt',\n",
       " 'C:/Users/14342/Documents/GitHub/Connected-Steps-Project/Geolife Trajectories 1.3/Data/000/Trajectory\\\\20090522094234.plt',\n",
       " 'C:/Users/14342/Documents/GitHub/Connected-Steps-Project/Geolife Trajectories 1.3/Data/000/Trajectory\\\\20090523011253.plt',\n",
       " 'C:/Users/14342/Documents/GitHub/Connected-Steps-Project/Geolife Trajectories 1.3/Data/000/Trajectory\\\\20090524094557.plt',\n",
       " 'C:/Users/14342/Documents/GitHub/Connected-Steps-Project/Geolife Trajectories 1.3/Data/000/Trajectory\\\\20090524215455.plt',\n",
       " 'C:/Users/14342/Documents/GitHub/Connected-Steps-Project/Geolife Trajectories 1.3/Data/000/Trajectory\\\\20090525093647.plt',\n",
       " 'C:/Users/14342/Documents/GitHub/Connected-Steps-Project/Geolife Trajectories 1.3/Data/000/Trajectory\\\\20090526040256.plt',\n",
       " 'C:/Users/14342/Documents/GitHub/Connected-Steps-Project/Geolife Trajectories 1.3/Data/000/Trajectory\\\\20090526170706.plt',\n",
       " 'C:/Users/14342/Documents/GitHub/Connected-Steps-Project/Geolife Trajectories 1.3/Data/000/Trajectory\\\\20090527080105.plt',\n",
       " 'C:/Users/14342/Documents/GitHub/Connected-Steps-Project/Geolife Trajectories 1.3/Data/000/Trajectory\\\\20090528012338.plt',\n",
       " 'C:/Users/14342/Documents/GitHub/Connected-Steps-Project/Geolife Trajectories 1.3/Data/000/Trajectory\\\\20090530034445.plt',\n",
       " 'C:/Users/14342/Documents/GitHub/Connected-Steps-Project/Geolife Trajectories 1.3/Data/000/Trajectory\\\\20090531031407.plt',\n",
       " 'C:/Users/14342/Documents/GitHub/Connected-Steps-Project/Geolife Trajectories 1.3/Data/000/Trajectory\\\\20090531192301.plt',\n",
       " 'C:/Users/14342/Documents/GitHub/Connected-Steps-Project/Geolife Trajectories 1.3/Data/000/Trajectory\\\\20090601082932.plt',\n",
       " 'C:/Users/14342/Documents/GitHub/Connected-Steps-Project/Geolife Trajectories 1.3/Data/000/Trajectory\\\\20090602035536.plt',\n",
       " 'C:/Users/14342/Documents/GitHub/Connected-Steps-Project/Geolife Trajectories 1.3/Data/000/Trajectory\\\\20090602185307.plt',\n",
       " 'C:/Users/14342/Documents/GitHub/Connected-Steps-Project/Geolife Trajectories 1.3/Data/000/Trajectory\\\\20090603064302.plt',\n",
       " 'C:/Users/14342/Documents/GitHub/Connected-Steps-Project/Geolife Trajectories 1.3/Data/000/Trajectory\\\\20090604053730.plt',\n",
       " 'C:/Users/14342/Documents/GitHub/Connected-Steps-Project/Geolife Trajectories 1.3/Data/000/Trajectory\\\\20090605012707.plt',\n",
       " 'C:/Users/14342/Documents/GitHub/Connected-Steps-Project/Geolife Trajectories 1.3/Data/000/Trajectory\\\\20090606060037.plt',\n",
       " 'C:/Users/14342/Documents/GitHub/Connected-Steps-Project/Geolife Trajectories 1.3/Data/000/Trajectory\\\\20090607075255.plt',\n",
       " 'C:/Users/14342/Documents/GitHub/Connected-Steps-Project/Geolife Trajectories 1.3/Data/000/Trajectory\\\\20090607163831.plt',\n",
       " 'C:/Users/14342/Documents/GitHub/Connected-Steps-Project/Geolife Trajectories 1.3/Data/000/Trajectory\\\\20090608060034.plt',\n",
       " 'C:/Users/14342/Documents/GitHub/Connected-Steps-Project/Geolife Trajectories 1.3/Data/000/Trajectory\\\\20090609002030.plt',\n",
       " 'C:/Users/14342/Documents/GitHub/Connected-Steps-Project/Geolife Trajectories 1.3/Data/000/Trajectory\\\\20090610062438.plt',\n",
       " 'C:/Users/14342/Documents/GitHub/Connected-Steps-Project/Geolife Trajectories 1.3/Data/000/Trajectory\\\\20090610223636.plt',\n",
       " 'C:/Users/14342/Documents/GitHub/Connected-Steps-Project/Geolife Trajectories 1.3/Data/000/Trajectory\\\\20090611221204.plt',\n",
       " 'C:/Users/14342/Documents/GitHub/Connected-Steps-Project/Geolife Trajectories 1.3/Data/000/Trajectory\\\\20090612072227.plt',\n",
       " 'C:/Users/14342/Documents/GitHub/Connected-Steps-Project/Geolife Trajectories 1.3/Data/000/Trajectory\\\\20090612220336.plt',\n",
       " 'C:/Users/14342/Documents/GitHub/Connected-Steps-Project/Geolife Trajectories 1.3/Data/000/Trajectory\\\\20090614065303.plt',\n",
       " 'C:/Users/14342/Documents/GitHub/Connected-Steps-Project/Geolife Trajectories 1.3/Data/000/Trajectory\\\\20090615055603.plt',\n",
       " 'C:/Users/14342/Documents/GitHub/Connected-Steps-Project/Geolife Trajectories 1.3/Data/000/Trajectory\\\\20090615183206.plt',\n",
       " 'C:/Users/14342/Documents/GitHub/Connected-Steps-Project/Geolife Trajectories 1.3/Data/000/Trajectory\\\\20090616054128.plt',\n",
       " 'C:/Users/14342/Documents/GitHub/Connected-Steps-Project/Geolife Trajectories 1.3/Data/000/Trajectory\\\\20090618005931.plt',\n",
       " 'C:/Users/14342/Documents/GitHub/Connected-Steps-Project/Geolife Trajectories 1.3/Data/000/Trajectory\\\\20090619004036.plt',\n",
       " 'C:/Users/14342/Documents/GitHub/Connected-Steps-Project/Geolife Trajectories 1.3/Data/000/Trajectory\\\\20090620024527.plt',\n",
       " 'C:/Users/14342/Documents/GitHub/Connected-Steps-Project/Geolife Trajectories 1.3/Data/000/Trajectory\\\\20090621101407.plt',\n",
       " 'C:/Users/14342/Documents/GitHub/Connected-Steps-Project/Geolife Trajectories 1.3/Data/000/Trajectory\\\\20090622095432.plt',\n",
       " 'C:/Users/14342/Documents/GitHub/Connected-Steps-Project/Geolife Trajectories 1.3/Data/000/Trajectory\\\\20090623043635.plt',\n",
       " 'C:/Users/14342/Documents/GitHub/Connected-Steps-Project/Geolife Trajectories 1.3/Data/000/Trajectory\\\\20090623233404.plt',\n",
       " 'C:/Users/14342/Documents/GitHub/Connected-Steps-Project/Geolife Trajectories 1.3/Data/000/Trajectory\\\\20090624070430.plt',\n",
       " 'C:/Users/14342/Documents/GitHub/Connected-Steps-Project/Geolife Trajectories 1.3/Data/000/Trajectory\\\\20090624215736.plt',\n",
       " 'C:/Users/14342/Documents/GitHub/Connected-Steps-Project/Geolife Trajectories 1.3/Data/000/Trajectory\\\\20090625041631.plt',\n",
       " 'C:/Users/14342/Documents/GitHub/Connected-Steps-Project/Geolife Trajectories 1.3/Data/000/Trajectory\\\\20090626101307.plt',\n",
       " 'C:/Users/14342/Documents/GitHub/Connected-Steps-Project/Geolife Trajectories 1.3/Data/000/Trajectory\\\\20090627025208.plt',\n",
       " 'C:/Users/14342/Documents/GitHub/Connected-Steps-Project/Geolife Trajectories 1.3/Data/000/Trajectory\\\\20090627101821.plt',\n",
       " 'C:/Users/14342/Documents/GitHub/Connected-Steps-Project/Geolife Trajectories 1.3/Data/000/Trajectory\\\\20090628005229.plt',\n",
       " 'C:/Users/14342/Documents/GitHub/Connected-Steps-Project/Geolife Trajectories 1.3/Data/000/Trajectory\\\\20090629011630.plt',\n",
       " 'C:/Users/14342/Documents/GitHub/Connected-Steps-Project/Geolife Trajectories 1.3/Data/000/Trajectory\\\\20090629173335.plt',\n",
       " 'C:/Users/14342/Documents/GitHub/Connected-Steps-Project/Geolife Trajectories 1.3/Data/000/Trajectory\\\\20090630045606.plt',\n",
       " 'C:/Users/14342/Documents/GitHub/Connected-Steps-Project/Geolife Trajectories 1.3/Data/000/Trajectory\\\\20090701044033.plt',\n",
       " 'C:/Users/14342/Documents/GitHub/Connected-Steps-Project/Geolife Trajectories 1.3/Data/000/Trajectory\\\\20090701110728.plt',\n",
       " 'C:/Users/14342/Documents/GitHub/Connected-Steps-Project/Geolife Trajectories 1.3/Data/000/Trajectory\\\\20090701171936.plt',\n",
       " 'C:/Users/14342/Documents/GitHub/Connected-Steps-Project/Geolife Trajectories 1.3/Data/000/Trajectory\\\\20090702022530.plt',\n",
       " 'C:/Users/14342/Documents/GitHub/Connected-Steps-Project/Geolife Trajectories 1.3/Data/000/Trajectory\\\\20090703002800.plt',\n",
       " 'C:/Users/14342/Documents/GitHub/Connected-Steps-Project/Geolife Trajectories 1.3/Data/000/Trajectory\\\\20090704042634.plt',\n",
       " 'C:/Users/14342/Documents/GitHub/Connected-Steps-Project/Geolife Trajectories 1.3/Data/000/Trajectory\\\\20090705025307.plt']"
      ]
     },
     "execution_count": 4,
     "metadata": {},
     "output_type": "execute_result"
    }
   ],
   "source": [
    "#la1, lo1, t1 = plotLocation('.//Geolife_Trajectories_1.3//Data//000//Trajectory//20081023025304.plt')\n",
    "#os.getcwd()\n",
    "#os.getcwd()+ \"\\\\Geolife_Trajectories_1.3\\\\Data\\\\000\\\\Trajectory\\\\20081023025304.plt\"\n",
    "#glob.glob(\"C:/Users/14342/Documents/GitHub/Connected-Steps-Project/Geolife_Trajectories_1.3/Data//000/Trajectory/*.plt\")\n",
    "glob.glob('C:/Users/14342/Documents/GitHub/Connected-Steps-Project/Geolife Trajectories 1.3/Data/000/Trajectory/*.plt')"
   ]
  },
  {
   "cell_type": "code",
   "execution_count": 5,
   "metadata": {},
   "outputs": [
    {
     "data": {
      "text/plain": [
       "'C:\\\\Users\\\\14342\\\\Documents\\\\GitHub\\\\Connected-Steps-Project'"
      ]
     },
     "execution_count": 5,
     "metadata": {},
     "output_type": "execute_result"
    }
   ],
   "source": [
    "#la1, lo1, t1 = plotLocation(os.getcwd()+\"\\\\Geolife_Trajectories_1.3\\\\Data\\\\000\\\\Trajectory\\\\20081023025304.plt\")\n",
    "os.getcwd()"
   ]
  },
  {
   "cell_type": "code",
   "execution_count": 6,
   "metadata": {},
   "outputs": [
    {
     "ename": "NameError",
     "evalue": "name 'lo1' is not defined",
     "output_type": "error",
     "traceback": [
      "\u001b[1;31m---------------------------------------------------------------------------\u001b[0m",
      "\u001b[1;31mNameError\u001b[0m                                 Traceback (most recent call last)",
      "\u001b[1;32m<ipython-input-6-44ee2183bc52>\u001b[0m in \u001b[0;36m<module>\u001b[1;34m\u001b[0m\n\u001b[0;32m      2\u001b[0m \u001b[1;33m\u001b[0m\u001b[0m\n\u001b[0;32m      3\u001b[0m \u001b[0max\u001b[0m \u001b[1;33m=\u001b[0m \u001b[0mfig\u001b[0m\u001b[1;33m.\u001b[0m\u001b[0madd_subplot\u001b[0m\u001b[1;33m(\u001b[0m\u001b[1;36m2\u001b[0m\u001b[1;33m,\u001b[0m \u001b[1;36m2\u001b[0m\u001b[1;33m,\u001b[0m \u001b[1;36m1\u001b[0m\u001b[1;33m)\u001b[0m\u001b[1;33m\u001b[0m\u001b[1;33m\u001b[0m\u001b[0m\n\u001b[1;32m----> 4\u001b[1;33m \u001b[0max\u001b[0m\u001b[1;33m.\u001b[0m\u001b[0mscatter\u001b[0m\u001b[1;33m(\u001b[0m\u001b[0mlo1\u001b[0m\u001b[1;33m,\u001b[0m \u001b[0mla1\u001b[0m\u001b[1;33m)\u001b[0m\u001b[1;33m\u001b[0m\u001b[1;33m\u001b[0m\u001b[0m\n\u001b[0m",
      "\u001b[1;31mNameError\u001b[0m: name 'lo1' is not defined"
     ]
    },
    {
     "data": {
      "image/png": "[encoded data removed]",
      "text/plain": [
       "<Figure size 1080x1080 with 1 Axes>"
      ]
     },
     "metadata": {
      "needs_background": "light"
     },
     "output_type": "display_data"
    }
   ],
   "source": [
    "fig = plt.figure(figsize=(15,15))\n",
    "\n",
    "ax = fig.add_subplot(2, 2, 1)\n",
    "ax.scatter(lo1, la1)"
   ]
  },
  {
   "cell_type": "code",
   "execution_count": 7,
   "metadata": {},
   "outputs": [
    {
     "ename": "IndentationError",
     "evalue": "unexpected indent (<ipython-input-7-491379f6da0b>, line 2)",
     "output_type": "error",
     "traceback": [
      "\u001b[1;36m  File \u001b[1;32m\"<ipython-input-7-491379f6da0b>\"\u001b[1;36m, line \u001b[1;32m2\u001b[0m\n\u001b[1;33m    ax = plt.axes(projection='3d')\u001b[0m\n\u001b[1;37m    ^\u001b[0m\n\u001b[1;31mIndentationError\u001b[0m\u001b[1;31m:\u001b[0m unexpected indent\n"
     ]
    }
   ],
   "source": [
    "# 3D plot with x-axis = time    \n",
    "    ax = plt.axes(projection='3d')\n",
    "    ax.scatter(t1, la1, lo1, c = t1,cmap='viridis', linewidth=0.5);\n",
    "    plt.show()"
   ]
  },
  {
   "cell_type": "code",
   "execution_count": null,
   "metadata": {},
   "outputs": [],
   "source": []
  }
 ],
 "metadata": {
  "kernelspec": {
   "display_name": "Python 3",
   "language": "python",
   "name": "python3"
  },
  "language_info": {
   "codemirror_mode": {
    "name": "ipython",
    "version": 3
   },
   "file_extension": ".py",
   "mimetype": "text/x-python",
   "name": "python",
   "nbconvert_exporter": "python",
   "pygments_lexer": "ipython3",
   "version": "3.7.3"
  }
 },
 "nbformat": 4,
 "nbformat_minor": 2
}
