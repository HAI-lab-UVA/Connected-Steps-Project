{
  "nbformat": 4,
  "nbformat_minor": 0,
  "metadata": {
    "kernelspec": {
      "display_name": "Python 3",
      "language": "python",
      "name": "python3"
    },
    "language_info": {
      "codemirror_mode": {
        "name": "ipython",
        "version": 3
      },
      "file_extension": ".py",
      "mimetype": "text/x-python",
      "name": "python",
      "nbconvert_exporter": "python",
      "pygments_lexer": "ipython3",
      "version": "3.6.4"
    },
    "colab": {
      "name": "Part2-Image recognition using CNN.ipynb",
      "provenance": [],
      "collapsed_sections": [
        "ofq86IS2WHAx",
        "vW2io7ZRl7YI",
        "TuLQx8FYDiSG",
        "TiWP-wnMogQm",
        "YFNbfdPyQV6P"
      ],
      "toc_visible": true
    }
  },
  "cells": [
    {
      "cell_type": "markdown",
      "metadata": {
        "id": "ofq86IS2WHAx",
        "colab_type": "text"
      },
      "source": [
        "# Loading pretrain model"
      ]
    },
    {
      "cell_type": "code",
      "metadata": {
        "id": "sLlyV7IwGf-L",
        "colab_type": "code",
        "colab": {
          "base_uri": "https://localhost:8080/",
          "height": 34
        },
        "outputId": "df25dc28-6417-4f69-876e-c0ee55ec8621"
      },
      "source": [
        "%tensorflow_version 1.x\n",
        "import tensorflow"
      ],
      "execution_count": null,
      "outputs": [
        {
          "output_type": "stream",
          "text": [
            "TensorFlow 1.x selected.\n"
          ],
          "name": "stdout"
        }
      ]
    },
    {
      "cell_type": "code",
      "metadata": {
        "id": "3Enoq_yVC2jt",
        "colab_type": "code",
        "colab": {
          "base_uri": "https://localhost:8080/",
          "height": 34
        },
        "outputId": "93f08f80-76db-44a6-a2c6-da9d63b58748"
      },
      "source": [
        "from keras.datasets import mnist\n",
        "from keras.models import Sequential\n",
        "from keras.layers import Dense\n",
        "from keras.layers import Dropout\n",
        "from keras.layers import Flatten\n",
        "from keras.layers.convolutional import Conv2D\n",
        "from keras.layers.convolutional import MaxPooling2D\n",
        "from keras.optimizers import Adam\n",
        "from keras.utils import np_utils\n",
        "from PIL import Image\n",
        "import numpy as np\n",
        "import os\n",
        "\n",
        "import matplotlib.pyplot as plt\n",
        "from skimage.transform import resize\n",
        "from skimage import color\n",
        "from skimage import io\n",
        "from PIL import Image\n",
        "import PIL.ImageOps   "
      ],
      "execution_count": null,
      "outputs": [
        {
          "output_type": "stream",
          "text": [
            "Using TensorFlow backend.\n"
          ],
          "name": "stderr"
        }
      ]
    },
    {
      "cell_type": "code",
      "metadata": {
        "id": "F2JIA7DsC2j4",
        "colab_type": "code",
        "colab": {}
      },
      "source": [
        "# # fix random seed for reproducibility\n",
        "seed = 7\n",
        "np.random.seed(seed)"
      ],
      "execution_count": null,
      "outputs": []
    },
    {
      "cell_type": "code",
      "metadata": {
        "id": "aygv_DzeC2j8",
        "colab_type": "code",
        "colab": {
          "base_uri": "https://localhost:8080/",
          "height": 50
        },
        "outputId": "a91056c3-f37d-45fc-e895-ae29d534e3bf"
      },
      "source": [
        "# load data\n",
        "(X_train, y_train), (X_test, y_test) = mnist.load_data()"
      ],
      "execution_count": null,
      "outputs": [
        {
          "output_type": "stream",
          "text": [
            "Downloading data from https://s3.amazonaws.com/img-datasets/mnist.npz\n",
            "11493376/11490434 [==============================] - 0s 0us/step\n"
          ],
          "name": "stdout"
        }
      ]
    },
    {
      "cell_type": "code",
      "metadata": {
        "id": "irS4efeRC2kF",
        "colab_type": "code",
        "colab": {}
      },
      "source": [
        "# Reshaping to format which CNN expects (batch, height, width, channels)\n",
        "X_train = X_train.reshape(X_train.shape[0], X_train.shape[1], X_train.shape[2], 1).astype('float32')\n",
        "X_test = X_test.reshape(X_test.shape[0], X_test.shape[1], X_test.shape[2], 1).astype('float32')"
      ],
      "execution_count": null,
      "outputs": []
    },
    {
      "cell_type": "code",
      "metadata": {
        "id": "25kGMsXzC2kP",
        "colab_type": "code",
        "colab": {}
      },
      "source": [
        "# normalize inputs from 0-255 to 0-1\n",
        "X_train/=255\n",
        "X_test/=255"
      ],
      "execution_count": null,
      "outputs": []
    },
    {
      "cell_type": "code",
      "metadata": {
        "id": "w5nWlUkfC2kU",
        "colab_type": "code",
        "colab": {}
      },
      "source": [
        "# one hot encode\n",
        "number_of_classes = 10\n",
        "y_train = np_utils.to_categorical(y_train, number_of_classes)\n",
        "y_test = np_utils.to_categorical(y_test, number_of_classes)"
      ],
      "execution_count": null,
      "outputs": []
    },
    {
      "cell_type": "code",
      "metadata": {
        "id": "azZ694dv_vvn",
        "colab_type": "code",
        "colab": {}
      },
      "source": [
        "# pip install tensorflow-gpu==1.14 ## downgrade to support Keras"
      ],
      "execution_count": null,
      "outputs": []
    },
    {
      "cell_type": "code",
      "metadata": {
        "id": "aFtZAR7oC2kY",
        "colab_type": "code",
        "colab": {
          "base_uri": "https://localhost:8080/",
          "height": 121
        },
        "outputId": "b845cd05-aacb-46cd-9af8-e4765f2dbc0b"
      },
      "source": [
        "# create model\n",
        "model = Sequential()\n",
        "model.add(Conv2D(32, (5, 5), input_shape=(X_train.shape[1], X_train.shape[2], 1), activation='relu'))\n",
        "model.add(MaxPooling2D(pool_size=(2, 2)))\n",
        "model.add(Conv2D(32, (3, 3), activation='relu'))\n",
        "model.add(MaxPooling2D(pool_size=(2, 2)))\n",
        "model.add(Dropout(0.5))\n",
        "model.add(Flatten())\n",
        "model.add(Dense(128, activation='relu'))\n",
        "model.add(Dropout(0.5))\n",
        "model.add(Dense(number_of_classes, activation='softmax'))"
      ],
      "execution_count": null,
      "outputs": [
        {
          "output_type": "stream",
          "text": [
            "WARNING:tensorflow:From /tensorflow-1.15.2/python3.6/tensorflow_core/python/ops/resource_variable_ops.py:1630: calling BaseResourceVariable.__init__ (from tensorflow.python.ops.resource_variable_ops) with constraint is deprecated and will be removed in a future version.\n",
            "Instructions for updating:\n",
            "If using Keras pass *_constraint arguments to layers.\n",
            "WARNING:tensorflow:From /tensorflow-1.15.2/python3.6/keras/backend/tensorflow_backend.py:4070: The name tf.nn.max_pool is deprecated. Please use tf.nn.max_pool2d instead.\n",
            "\n"
          ],
          "name": "stdout"
        }
      ]
    },
    {
      "cell_type": "code",
      "metadata": {
        "id": "VCb_jBK6C2kb",
        "colab_type": "code",
        "colab": {}
      },
      "source": [
        "# Compile model\n",
        "model.compile(loss='categorical_crossentropy', optimizer=Adam(), metrics=['accuracy'])"
      ],
      "execution_count": null,
      "outputs": []
    },
    {
      "cell_type": "code",
      "metadata": {
        "id": "KZI9TX0mC2kf",
        "colab_type": "code",
        "colab": {
          "base_uri": "https://localhost:8080/",
          "height": 171
        },
        "outputId": "ecc429cc-35f6-45f9-d69c-8dbfbc6da271"
      },
      "source": [
        "# Fit the model\n",
        "model.fit(X_train, y_train, validation_data=(X_test, y_test), epochs=2, batch_size=200)"
      ],
      "execution_count": null,
      "outputs": [
        {
          "output_type": "stream",
          "text": [
            "WARNING:tensorflow:From /tensorflow-1.15.2/python3.6/keras/backend/tensorflow_backend.py:422: The name tf.global_variables is deprecated. Please use tf.compat.v1.global_variables instead.\n",
            "\n",
            "Train on 60000 samples, validate on 10000 samples\n",
            "Epoch 1/2\n",
            "60000/60000 [==============================] - 42s 696us/step - loss: 0.4898 - accuracy: 0.8415 - val_loss: 0.0844 - val_accuracy: 0.9750\n",
            "Epoch 2/2\n",
            "60000/60000 [==============================] - 40s 662us/step - loss: 0.1592 - accuracy: 0.9523 - val_loss: 0.0577 - val_accuracy: 0.9815\n"
          ],
          "name": "stdout"
        },
        {
          "output_type": "execute_result",
          "data": {
            "text/plain": [
              "<keras.callbacks.callbacks.History at 0x7f1a37a96b70>"
            ]
          },
          "metadata": {
            "tags": []
          },
          "execution_count": 11
        }
      ]
    },
    {
      "cell_type": "code",
      "metadata": {
        "id": "wvJWwrwuC2kr",
        "colab_type": "code",
        "colab": {
          "base_uri": "https://localhost:8080/",
          "height": 50
        },
        "outputId": "3312897c-8866-4412-a666-0c8cf8291911"
      },
      "source": [
        "# Final evaluation of the model\n",
        "metrics = model.evaluate(X_test, y_test, verbose=0)\n",
        "print(\"Metrics(Test loss & Test Accuracy): \")\n",
        "print(metrics)"
      ],
      "execution_count": null,
      "outputs": [
        {
          "output_type": "stream",
          "text": [
            "Metrics(Test loss & Test Accuracy): \n",
            "[0.05769324681917205, 0.9815000295639038]\n"
          ],
          "name": "stdout"
        }
      ]
    },
    {
      "cell_type": "code",
      "metadata": {
        "id": "8qt0ajsTl5H6",
        "colab_type": "code",
        "colab": {
          "base_uri": "https://localhost:8080/",
          "height": 121
        },
        "outputId": "f134f263-f9e4-4e9b-ac1b-fc46fe6efee1"
      },
      "source": [
        "#My laptop has no GPU so I uploaded the plots to google drive and use google colab to generate prediction\n",
        "\n",
        "from google.colab import drive\n",
        "drive.mount('/content/drive/')"
      ],
      "execution_count": null,
      "outputs": [
        {
          "output_type": "stream",
          "text": [
            "Go to this URL in a browser: https://accounts.google.com/o/oauth2/auth?client_id=947318989803-6bn6qk8qdgf4n4g3pfee6491hc0brc4i.apps.googleusercontent.com&redirect_uri=urn%3aietf%3awg%3aoauth%3a2.0%3aoob&response_type=code&scope=email%20https%3a%2f%2fwww.googleapis.com%2fauth%2fdocs.test%20https%3a%2f%2fwww.googleapis.com%2fauth%2fdrive%20https%3a%2f%2fwww.googleapis.com%2fauth%2fdrive.photos.readonly%20https%3a%2f%2fwww.googleapis.com%2fauth%2fpeopleapi.readonly\n",
            "\n",
            "Enter your authorization code:\n",
            "··········\n",
            "Mounted at /content/drive/\n"
          ],
          "name": "stdout"
        }
      ]
    },
    {
      "cell_type": "markdown",
      "metadata": {
        "id": "YFNbfdPyQV6P",
        "colab_type": "text"
      },
      "source": [
        "# Generate Mircrosoft prediction\n"
      ]
    },
    {
      "cell_type": "code",
      "metadata": {
        "id": "XKqKUJBSpoJR",
        "colab_type": "code",
        "colab": {
          "base_uri": "https://localhost:8080/",
          "height": 34
        },
        "outputId": "42b55204-26ee-4655-d21d-364b93c10fd1"
      },
      "source": [
        "# get all image from folder\n",
        "import glob\n",
        "\n",
        "files = []\n",
        "for file in glob.glob(\"/content/drive/My Drive/Location plot/Smoothed2/*.png\"):\n",
        "    files.append(file)\n",
        "print(len(files))"
      ],
      "execution_count": 1,
      "outputs": [
        {
          "output_type": "stream",
          "text": [
            "0\n"
          ],
          "name": "stdout"
        }
      ]
    },
    {
      "cell_type": "code",
      "metadata": {
        "id": "0ht4FtpXFIwf",
        "colab_type": "code",
        "colab": {}
      },
      "source": [
        "y_pred_list = []\n",
        "\n",
        "# generate prediction for every trajectories\n",
        "for i in range (0,len(files)):\n",
        "  image = Image.open(files[i]).convert(\"RGB\")\n",
        "  invert_img = PIL.ImageOps.invert(image)   #invert image\n",
        "  invert_img = np.asarray(invert_img)   #convert image to nparray\n",
        "\n",
        "  gray_img = color.rgb2gray(invert_img) #convert to grayscale\n",
        "  gray_img = resize(gray_img, (28, 28)) #resize to fit network\n",
        "\n",
        "  im2arr = gray_img.reshape(1,28,28,1) #reshape\n",
        "\n",
        "  y_pred = model.predict_classes(im2arr) #make prediction\n",
        "  y_pred_list.append(y_pred[0])"
      ],
      "execution_count": 2,
      "outputs": []
    },
    {
      "cell_type": "code",
      "metadata": {
        "id": "xcVQ9BY2FcRH",
        "colab_type": "code",
        "colab": {}
      },
      "source": [
        "import pickle\n",
        "'''dump prediction to pickle file'''\n",
        "# with open('prediction.pkl', 'wb') as f:\n",
        "#   pickle.dump(y_pred_list, f)\n",
        "\n",
        "'''load prediction results from pickle file'''\n",
        "# with open('drive/My Drive/Jiajia Research/prediction.pkl', 'rb') as f:\n",
        "#   y_pred_list = pickle.load(f)"
      ],
      "execution_count": 3,
      "outputs": []
    },
    {
      "cell_type": "code",
      "metadata": {
        "id": "5-kdJHGYIT2t",
        "colab_type": "code",
        "colab": {}
      },
      "source": [
        "# grouped the trajectories based on labels\n",
        "one = []\n",
        "two = []\n",
        "three = []\n",
        "four = []\n",
        "five = []\n",
        "six = []\n",
        "seven = []\n",
        "eight = []\n",
        "nine = []\n",
        "zero = []\n",
        "for i in range (0, len(y_pred_list)):\n",
        "  if (y_pred_list[i] == 1 ) :\n",
        "      one.append(i)\n",
        "  elif (y_pred_list[i] == 2 ) :\n",
        "      two.append(i)\n",
        "  elif (y_pred_list[i] == 3 ) :\n",
        "      three.append(i)  \n",
        "  elif (y_pred_list[i] == 4 ) :\n",
        "      four.append(i)\n",
        "  elif (y_pred_list[i] == 5 ) :\n",
        "      five.append(i)\n",
        "  elif (y_pred_list[i] == 6 ) :\n",
        "      six.append(i)\n",
        "  elif (y_pred_list[i] == 7 ) :\n",
        "      seven.append(i)\n",
        "  elif (y_pred_list[i] == 8 ) :\n",
        "      eight.append(i)\n",
        "  elif (y_pred_list[i] == 9 ) :\n",
        "      nine.append(i)\n",
        "  elif (y_pred_list[i] == 0 ) :\n",
        "      zero.append(i)"
      ],
      "execution_count": 4,
      "outputs": []
    },
    {
      "cell_type": "code",
      "metadata": {
        "id": "puIdkGPNKX_M",
        "colab_type": "code",
        "colab": {
          "base_uri": "https://localhost:8080/",
          "height": 185
        },
        "outputId": "e4a83133-cb62-4853-b83b-8af7ee7e11e4"
      },
      "source": [
        "print (\"number of 0: \", len(zero))\n",
        "print (\"number of 1: \", len(one))\n",
        "print (\"number of 2: \", len(two))\n",
        "print (\"number of 3: \", len(three))\n",
        "print (\"number of 4: \", len(four))\n",
        "print (\"number of 5: \", len(five))\n",
        "print (\"number of 6: \", len(six))\n",
        "print (\"number of 7: \", len(seven))\n",
        "print (\"number of 8: \", len(eight))\n",
        "print (\"number of 9: \", len(nine))"
      ],
      "execution_count": 5,
      "outputs": [
        {
          "output_type": "stream",
          "text": [
            "number of 0:  0\n",
            "number of 1:  0\n",
            "number of 2:  0\n",
            "number of 3:  0\n",
            "number of 4:  0\n",
            "number of 5:  0\n",
            "number of 6:  0\n",
            "number of 7:  0\n",
            "number of 8:  0\n",
            "number of 9:  0\n"
          ],
          "name": "stdout"
        }
      ]
    },
    {
      "cell_type": "markdown",
      "metadata": {
        "id": "V-hFTPqWR_Wv",
        "colab_type": "text"
      },
      "source": [
        "# Visualization\n"
      ]
    },
    {
      "cell_type": "code",
      "metadata": {
        "id": "X013Pg8MKZEZ",
        "colab_type": "code",
        "colab": {
          "base_uri": "https://localhost:8080/",
          "height": 336
        },
        "outputId": "a3f08357-4583-4305-85bc-cd32cfcbe995"
      },
      "source": [
        "# Show the plot for each category\n",
        "digit = two \n",
        "\n",
        "from pathlib import Path\n",
        "\n",
        "plt.figure()\n",
        "\n",
        "rows,cols = 4 ,7\n",
        "fig, ax = plt.subplots(rows, cols,\n",
        "                      #  sharex='col', \n",
        "                      #  sharey='row',\n",
        "                       figsize=(10, 5))\n",
        "\n",
        "for row in range(rows):\n",
        "    for col in range(cols):\n",
        "        ax[row,col].imshow(Image.open(files[digit[row*cols + col]]))\n",
        "        ax[row,col].axis('off')\n",
        "        ax[row,col].set_title(Path(files[digit[row*cols + col]]).stem)"
      ],
      "execution_count": null,
      "outputs": [
        {
          "output_type": "display_data",
          "data": {
            "text/plain": [
              "<Figure size 432x288 with 0 Axes>"
            ]
          },
          "metadata": {
            "tags": []
          }
        },
        {
          "output_type": "display_data",
          "data": {
            "image/png": "[encoded data removed]",
            "text/plain": [
              "<Figure size 720x360 with 28 Axes>"
            ]
          },
          "metadata": {
            "tags": [],
            "needs_background": "light"
          }
        }
      ]
    }
  ]
}