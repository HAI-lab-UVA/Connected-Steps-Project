{
  "nbformat": 4,
  "nbformat_minor": 0,
  "metadata": {
    "kernelspec": {
      "display_name": "Python 3",
      "language": "python",
      "name": "python3"
    },
    "language_info": {
      "codemirror_mode": {
        "name": "ipython",
        "version": 3
      },
      "file_extension": ".py",
      "mimetype": "text/x-python",
      "name": "python",
      "nbconvert_exporter": "python",
      "pygments_lexer": "ipython3",
      "version": "3.6.4"
    },
    "colab": {
      "name": "Part2_Image recognition using CNN.ipynb",
      "provenance": [],
      "collapsed_sections": [],
      "toc_visible": true
    }
  },
  "cells": [
    {
      "cell_type": "markdown",
      "metadata": {
        "id": "ZklY8PXH5mgj",
        "colab_type": "text"
      },
      "source": [
        "### I used Collab notebook for running code in this file, since there are no gpu on my laptop. To run this notebook, I would upload the image I got on the previous file to google drive and mount the contents. "
      ]
    },
    {
      "cell_type": "code",
      "metadata": {
        "id": "sLlyV7IwGf-L",
        "colab_type": "code",
        "outputId": "d01fccc6-e520-4b95-dd17-a0416bbb655d",
        "colab": {
          "base_uri": "https://localhost:8080/",
          "height": 33
        }
      },
      "source": [
        "%tensorflow_version 1.x\n",
        "import tensorflow"
      ],
      "execution_count": 0,
      "outputs": [
        {
          "output_type": "stream",
          "text": [
            "TensorFlow 1.x selected.\n"
          ],
          "name": "stdout"
        }
      ]
    },
    {
      "cell_type": "code",
      "metadata": {
        "id": "3Enoq_yVC2jt",
        "colab_type": "code",
        "outputId": "68540e35-6834-43b1-bce1-88054af56799",
        "colab": {
          "base_uri": "https://localhost:8080/",
          "height": 33
        }
      },
      "source": [
        "from keras.datasets import mnist\n",
        "from keras.models import Sequential\n",
        "from keras.layers import Dense\n",
        "from keras.layers import Dropout\n",
        "from keras.layers import Flatten\n",
        "from keras.layers.convolutional import Conv2D\n",
        "from keras.layers.convolutional import MaxPooling2D\n",
        "from keras.optimizers import Adam\n",
        "from keras.utils import np_utils\n",
        "from PIL import Image\n",
        "import numpy as np\n",
        "import os"
      ],
      "execution_count": 0,
      "outputs": [
        {
          "output_type": "stream",
          "text": [
            "Using TensorFlow backend.\n"
          ],
          "name": "stderr"
        }
      ]
    },
    {
      "cell_type": "code",
      "metadata": {
        "id": "F2JIA7DsC2j4",
        "colab_type": "code",
        "colab": {}
      },
      "source": [
        "# # fix random seed for reproducibility\n",
        "# seed = 7\n",
        "# np.random.seed(seed)"
      ],
      "execution_count": 0,
      "outputs": []
    },
    {
      "cell_type": "code",
      "metadata": {
        "id": "aygv_DzeC2j8",
        "colab_type": "code",
        "colab": {}
      },
      "source": [
        "# load data\n",
        "(X_train, y_train), (X_test, y_test) = mnist.load_data()"
      ],
      "execution_count": 0,
      "outputs": []
    },
    {
      "cell_type": "code",
      "metadata": {
        "id": "irS4efeRC2kF",
        "colab_type": "code",
        "colab": {}
      },
      "source": [
        "# Reshaping to format which CNN expects (batch, height, width, channels)\n",
        "X_train = X_train.reshape(X_train.shape[0], X_train.shape[1], X_train.shape[2], 1).astype('float32')\n",
        "X_test = X_test.reshape(X_test.shape[0], X_test.shape[1], X_test.shape[2], 1).astype('float32')"
      ],
      "execution_count": 0,
      "outputs": []
    },
    {
      "cell_type": "code",
      "metadata": {
        "id": "25kGMsXzC2kP",
        "colab_type": "code",
        "colab": {}
      },
      "source": [
        "# normalize inputs from 0-255 to 0-1\n",
        "X_train/=255\n",
        "X_test/=255"
      ],
      "execution_count": 0,
      "outputs": []
    },
    {
      "cell_type": "code",
      "metadata": {
        "id": "w5nWlUkfC2kU",
        "colab_type": "code",
        "colab": {}
      },
      "source": [
        "# one hot encode\n",
        "number_of_classes = 10\n",
        "y_train = np_utils.to_categorical(y_train, number_of_classes)\n",
        "y_test = np_utils.to_categorical(y_test, number_of_classes)"
      ],
      "execution_count": 0,
      "outputs": []
    },
    {
      "cell_type": "code",
      "metadata": {
        "id": "azZ694dv_vvn",
        "colab_type": "code",
        "colab": {}
      },
      "source": [
        "# pip install tensorflow-gpu==1.14 ## downgrade to support Keras"
      ],
      "execution_count": 0,
      "outputs": []
    },
    {
      "cell_type": "code",
      "metadata": {
        "id": "aFtZAR7oC2kY",
        "colab_type": "code",
        "outputId": "6e9ab164-5daf-4be1-e733-50309173b686",
        "colab": {
          "base_uri": "https://localhost:8080/",
          "height": 248
        }
      },
      "source": [
        "# create model\n",
        "model = Sequential()\n",
        "model.add(Conv2D(32, (5, 5), input_shape=(X_train.shape[1], X_train.shape[2], 1), activation='relu'))\n",
        "model.add(MaxPooling2D(pool_size=(2, 2)))\n",
        "model.add(Conv2D(32, (3, 3), activation='relu'))\n",
        "model.add(MaxPooling2D(pool_size=(2, 2)))\n",
        "model.add(Dropout(0.5))\n",
        "model.add(Flatten())\n",
        "model.add(Dense(128, activation='relu'))\n",
        "model.add(Dropout(0.5))\n",
        "model.add(Dense(number_of_classes, activation='softmax'))"
      ],
      "execution_count": 0,
      "outputs": [
        {
          "output_type": "stream",
          "text": [
            "WARNING:tensorflow:From /usr/local/lib/python3.6/dist-packages/keras/backend/tensorflow_backend.py:66: The name tf.get_default_graph is deprecated. Please use tf.compat.v1.get_default_graph instead.\n",
            "\n",
            "WARNING:tensorflow:From /usr/local/lib/python3.6/dist-packages/keras/backend/tensorflow_backend.py:541: The name tf.placeholder is deprecated. Please use tf.compat.v1.placeholder instead.\n",
            "\n",
            "WARNING:tensorflow:From /usr/local/lib/python3.6/dist-packages/keras/backend/tensorflow_backend.py:4432: The name tf.random_uniform is deprecated. Please use tf.random.uniform instead.\n",
            "\n",
            "WARNING:tensorflow:From /usr/local/lib/python3.6/dist-packages/keras/backend/tensorflow_backend.py:4267: The name tf.nn.max_pool is deprecated. Please use tf.nn.max_pool2d instead.\n",
            "\n",
            "WARNING:tensorflow:From /usr/local/lib/python3.6/dist-packages/keras/backend/tensorflow_backend.py:148: The name tf.placeholder_with_default is deprecated. Please use tf.compat.v1.placeholder_with_default instead.\n",
            "\n",
            "WARNING:tensorflow:From /usr/local/lib/python3.6/dist-packages/keras/backend/tensorflow_backend.py:3733: calling dropout (from tensorflow.python.ops.nn_ops) with keep_prob is deprecated and will be removed in a future version.\n",
            "Instructions for updating:\n",
            "Please use `rate` instead of `keep_prob`. Rate should be set to `rate = 1 - keep_prob`.\n"
          ],
          "name": "stdout"
        }
      ]
    },
    {
      "cell_type": "code",
      "metadata": {
        "id": "VCb_jBK6C2kb",
        "colab_type": "code",
        "outputId": "1291d8a5-1ef6-4a6c-8c6a-93f91c346c0c",
        "colab": {
          "base_uri": "https://localhost:8080/",
          "height": 102
        }
      },
      "source": [
        "# Compile model\n",
        "model.compile(loss='categorical_crossentropy', optimizer=Adam(), metrics=['accuracy'])"
      ],
      "execution_count": 0,
      "outputs": [
        {
          "output_type": "stream",
          "text": [
            "WARNING:tensorflow:From /usr/local/lib/python3.6/dist-packages/keras/optimizers.py:793: The name tf.train.Optimizer is deprecated. Please use tf.compat.v1.train.Optimizer instead.\n",
            "\n",
            "WARNING:tensorflow:From /usr/local/lib/python3.6/dist-packages/keras/backend/tensorflow_backend.py:3576: The name tf.log is deprecated. Please use tf.math.log instead.\n",
            "\n"
          ],
          "name": "stdout"
        }
      ]
    },
    {
      "cell_type": "code",
      "metadata": {
        "id": "KZI9TX0mC2kf",
        "colab_type": "code",
        "outputId": "fafd0c67-b857-4849-b7e1-02f02502169e",
        "colab": {
          "base_uri": "https://localhost:8080/",
          "height": 443
        }
      },
      "source": [
        "# Fit the model\n",
        "model.fit(X_train, y_train, validation_data=(X_test, y_test), epochs=2, batch_size=200)"
      ],
      "execution_count": 0,
      "outputs": [
        {
          "output_type": "stream",
          "text": [
            "WARNING:tensorflow:From /tensorflow-1.15.2/python3.6/tensorflow_core/python/ops/math_grad.py:1424: where (from tensorflow.python.ops.array_ops) is deprecated and will be removed in a future version.\n",
            "Instructions for updating:\n",
            "Use tf.where in 2.0, which has the same broadcast rule as np.where\n",
            "WARNING:tensorflow:From /usr/local/lib/python3.6/dist-packages/keras/backend/tensorflow_backend.py:1033: The name tf.assign_add is deprecated. Please use tf.compat.v1.assign_add instead.\n",
            "\n",
            "WARNING:tensorflow:From /usr/local/lib/python3.6/dist-packages/keras/backend/tensorflow_backend.py:1020: The name tf.assign is deprecated. Please use tf.compat.v1.assign instead.\n",
            "\n",
            "WARNING:tensorflow:From /usr/local/lib/python3.6/dist-packages/keras/backend/tensorflow_backend.py:3005: The name tf.Session is deprecated. Please use tf.compat.v1.Session instead.\n",
            "\n",
            "Train on 60000 samples, validate on 10000 samples\n",
            "Epoch 1/2\n",
            "WARNING:tensorflow:From /usr/local/lib/python3.6/dist-packages/keras/backend/tensorflow_backend.py:190: The name tf.get_default_session is deprecated. Please use tf.compat.v1.get_default_session instead.\n",
            "\n",
            "WARNING:tensorflow:From /usr/local/lib/python3.6/dist-packages/keras/backend/tensorflow_backend.py:197: The name tf.ConfigProto is deprecated. Please use tf.compat.v1.ConfigProto instead.\n",
            "\n",
            "WARNING:tensorflow:From /usr/local/lib/python3.6/dist-packages/keras/backend/tensorflow_backend.py:207: The name tf.global_variables is deprecated. Please use tf.compat.v1.global_variables instead.\n",
            "\n",
            "WARNING:tensorflow:From /usr/local/lib/python3.6/dist-packages/keras/backend/tensorflow_backend.py:216: The name tf.is_variable_initialized is deprecated. Please use tf.compat.v1.is_variable_initialized instead.\n",
            "\n",
            "WARNING:tensorflow:From /usr/local/lib/python3.6/dist-packages/keras/backend/tensorflow_backend.py:223: The name tf.variables_initializer is deprecated. Please use tf.compat.v1.variables_initializer instead.\n",
            "\n",
            "60000/60000 [==============================] - 40s 667us/step - loss: 0.4884 - acc: 0.8416 - val_loss: 0.0807 - val_acc: 0.9746\n",
            "Epoch 2/2\n",
            "60000/60000 [==============================] - 39s 656us/step - loss: 0.1557 - acc: 0.9528 - val_loss: 0.0527 - val_acc: 0.9839\n"
          ],
          "name": "stdout"
        },
        {
          "output_type": "execute_result",
          "data": {
            "text/plain": [
              "<keras.callbacks.History at 0x7fd14c6e5358>"
            ]
          },
          "metadata": {
            "tags": []
          },
          "execution_count": 11
        }
      ]
    },
    {
      "cell_type": "code",
      "metadata": {
        "id": "wvJWwrwuC2kr",
        "colab_type": "code",
        "outputId": "eff93524-2588-4094-b1e5-2b769d887d48",
        "colab": {
          "base_uri": "https://localhost:8080/",
          "height": 50
        }
      },
      "source": [
        "# Final evaluation of the model\n",
        "metrics = model.evaluate(X_test, y_test, verbose=0)\n",
        "print(\"Metrics(Test loss & Test Accuracy): \")\n",
        "print(metrics)"
      ],
      "execution_count": 0,
      "outputs": [
        {
          "output_type": "stream",
          "text": [
            "Metrics(Test loss & Test Accuracy): \n",
            "[0.05268567152149044, 0.9839]\n"
          ],
          "name": "stdout"
        }
      ]
    },
    {
      "cell_type": "code",
      "metadata": {
        "id": "8qt0ajsTl5H6",
        "colab_type": "code",
        "outputId": "3d29b1e3-4e06-4b72-c387-3615c1435371",
        "colab": {
          "base_uri": "https://localhost:8080/",
          "height": 33
        }
      },
      "source": [
        "#mount google drive data into colab notebook\n",
        "from google.colab import drive\n",
        "\n",
        "drive.mount('/content/drive/')"
      ],
      "execution_count": 0,
      "outputs": [
        {
          "output_type": "stream",
          "text": [
            "Drive already mounted at /content/drive/; to attempt to forcibly remount, call drive.mount(\"/content/drive/\", force_remount=True).\n"
          ],
          "name": "stdout"
        }
      ]
    },
    {
      "cell_type": "markdown",
      "metadata": {
        "id": "TuLQx8FYDiSG",
        "colab_type": "text"
      },
      "source": [
        "# Make prediction"
      ]
    },
    {
      "cell_type": "code",
      "metadata": {
        "id": "YGiGLU6RFeYb",
        "colab_type": "code",
        "colab": {}
      },
      "source": [
        "def make_prediction(filename):\n",
        "  image = Image.open(\"/content/drive/My Drive/Location plot/\" + filename).convert(\"RGB\")\n",
        "  invert_img = PIL.ImageOps.invert(image)   #invert image\n",
        "  invert_img = np.asarray(invert_img)   #convert image to nparray\n",
        "\n",
        "  gray_img = color.rgb2gray(invert_img) #convert to grayscale\n",
        "  gray_img = resize(gray_img, (28, 28)) #resize to fit network\n",
        "  # plt.imshow(gray_img);\n",
        "\n",
        "  im2arr = gray_img.reshape(1,28,28,1) #reshape\n",
        "\n",
        "  y_pred = model.predict_classes(im2arr) #make prediction\n",
        "  print(y_pred)\n",
        "\n",
        "  return gray_img"
      ],
      "execution_count": 0,
      "outputs": []
    },
    {
      "cell_type": "code",
      "metadata": {
        "id": "5STurOOUGjV0",
        "colab_type": "code",
        "outputId": "4fe60f01-64cd-40b4-fbbc-1162614aaaba",
        "colab": {
          "base_uri": "https://localhost:8080/",
          "height": 356
        }
      },
      "source": [
        "\n",
        "# a = make_prediction(\"18_18_Dv0 (1).png\")\n",
        "# b = make_prediction(\"18_18_Dv1 (1).png\")\n",
        "# c = make_prediction(\"18_18_Dv2 (1).png\")\n",
        "# d = make_prediction(\"18_18_Dv3 (1).png\")\n",
        "# e = make_prediction(\"18_18_Dv4 (1).png\")\n",
        "\n",
        "\n",
        "a = make_prediction(\"18_18_Dv0.png\")\n",
        "b = make_prediction(\"18_18_Dv1.png\")\n",
        "c = make_prediction(\"18_18_Dv2.png\")\n",
        "d = make_prediction(\"18_18_Dv3.png\")\n",
        "e = make_prediction(\"18_18_Dv4.png\")\n",
        "plt.figure()\n",
        "\n",
        "#subplot(r,c) provide the no. of rows and columns\n",
        "f, axarr = plt.subplots(1,5,figsize=(15,15)) \n",
        "\n",
        "# use the created array to output your multiple images. In this case I have stacked 4 images vertically\n",
        "axarr[0].imshow(a)\n",
        "axarr[1].imshow(b)\n",
        "axarr[2].imshow(c)\n",
        "axarr[3].imshow(d)\n",
        "axarr[4].imshow(e)\n",
        "\n",
        "print (\"\")\n",
        "print (\"\")\n",
        "print (\"\")\n",
        "print (\"\")"
      ],
      "execution_count": 0,
      "outputs": [
        {
          "output_type": "stream",
          "text": [
            "[5]\n",
            "[7]\n",
            "[5]\n",
            "[5]\n",
            "[5]\n",
            "\n",
            "\n",
            "\n",
            "\n"
          ],
          "name": "stdout"
        },
        {
          "output_type": "display_data",
          "data": {
            "text/plain": [
              "<Figure size 432x288 with 0 Axes>"
            ]
          },
          "metadata": {
            "tags": []
          }
        },
        {
          "output_type": "display_data",
          "data": {
            "image/png": "[encoded data removed]",
            "text/plain": [
              "<Figure size 1080x1080 with 5 Axes>"
            ]
          },
          "metadata": {
            "tags": []
          }
        }
      ]
    },
    {
      "cell_type": "code",
      "metadata": {
        "id": "fA3rYDaOh9LN",
        "colab_type": "code",
        "outputId": "f2c10305-07d7-4981-c5fc-0a9202cd24a3",
        "colab": {
          "base_uri": "https://localhost:8080/",
          "height": 323
        }
      },
      "source": [
        "\n",
        "a = make_prediction(\"Abbie_16_32_2.png\")\n",
        "b = make_prediction(\"Gabi_16_32_2.png\")\n",
        "c = make_prediction(\"Britney_16_32_2.png\")\n",
        "d = make_prediction(\"Ella_16_32_2.png\")\n",
        "e = make_prediction(\"Samer_16_32_2.png\")\n",
        "\n",
        "\n",
        "plt.figure()\n",
        "\n",
        "#subplot(r,c) provide the no. of rows and columns\n",
        "f, axarr = plt.subplots(1,5,figsize=(15,15)) \n",
        "\n",
        "# use the created array to output your multiple images. In this case I have stacked 4 images vertically\n",
        "axarr[0].imshow(a)\n",
        "axarr[1].imshow(b)\n",
        "axarr[2].imshow(c)\n",
        "axarr[3].imshow(d)\n",
        "axarr[4].imshow(e)\n",
        "\n",
        "print (\"Ground truth for Oct 18, 16:34 to 42: Abbie-1 and Gabi-2, Britney-3 and Ella-4\")\n",
        "print (\"\")\n"
      ],
      "execution_count": 0,
      "outputs": [
        {
          "output_type": "stream",
          "text": [
            "[4]\n",
            "[1]\n",
            "[3]\n",
            "[1]\n",
            "[3]\n",
            "Ground truth for Oct 18, 16:34 to 42: Abbie-1 and Gabi-2, Britney-3 and Ella-4\n",
            "\n"
          ],
          "name": "stdout"
        },
        {
          "output_type": "display_data",
          "data": {
            "text/plain": [
              "<Figure size 432x288 with 0 Axes>"
            ]
          },
          "metadata": {
            "tags": []
          }
        },
        {
          "output_type": "display_data",
          "data": {
            "image/png": "[encoded data removed]",
            "text/plain": [
              "<Figure size 1080x1080 with 5 Axes>"
            ]
          },
          "metadata": {
            "tags": []
          }
        }
      ]
    },
    {
      "cell_type": "code",
      "metadata": {
        "id": "1v2XU6QUKJbT",
        "colab_type": "code",
        "outputId": "a93fee22-dcef-4a10-d539-5538621322de",
        "colab": {
          "base_uri": "https://localhost:8080/",
          "height": 323
        }
      },
      "source": [
        "\n",
        "a = make_prediction(\"Abbie_18_12.png\")\n",
        "b = make_prediction(\"Gabi_18_12.png\")\n",
        "c = make_prediction(\"Britney_18_12.png\")\n",
        "d = make_prediction(\"Ella_18_12.png\")\n",
        "e = make_prediction(\"Samer_18_12.png\")\n",
        "\n",
        "\n",
        "plt.figure()\n",
        "\n",
        "#subplot(r,c) provide the no. of rows and columns\n",
        "f, axarr = plt.subplots(1,5,figsize=(15,15)) \n",
        "\n",
        "# use the created array to output your multiple images. In this case I have stacked 4 images vertically\n",
        "axarr[0].imshow(a)\n",
        "axarr[1].imshow(b)\n",
        "axarr[2].imshow(c)\n",
        "axarr[3].imshow(d)\n",
        "axarr[4].imshow(e)\n",
        "\n",
        "print (\"Ground truth for Oct 18, 18:12 Britney(3) walking + talking w-Gabi(2) @ parallel w- Abbie(1) and Ella(4)\")\n",
        "print (\"1,2,3,4 should have the same label, 5 should have different label\")\n"
      ],
      "execution_count": 0,
      "outputs": [
        {
          "output_type": "stream",
          "text": [
            "[2]\n",
            "[3]\n",
            "[1]\n",
            "[2]\n",
            "[4]\n",
            "Ground truth for Oct 18, 18:12 Britney(3) walking + talking w-Gabi(2) @ parallel w- Abbie(1) and Ella(4)\n",
            "1,2,3,4 should have the same label, 5 should have different label\n"
          ],
          "name": "stdout"
        },
        {
          "output_type": "display_data",
          "data": {
            "text/plain": [
              "<Figure size 432x288 with 0 Axes>"
            ]
          },
          "metadata": {
            "tags": []
          }
        },
        {
          "output_type": "display_data",
          "data": {
            "image/png": "[encoded data removed]",
            "text/plain": [
              "<Figure size 1080x1080 with 5 Axes>"
            ]
          },
          "metadata": {
            "tags": []
          }
        }
      ]
    },
    {
      "cell_type": "code",
      "metadata": {
        "id": "T0ioTOPUEh0f",
        "colab_type": "code",
        "outputId": "136fbf6a-0553-4027-f5bb-d21aa8820a0d",
        "colab": {
          "base_uri": "https://localhost:8080/",
          "height": 541
        }
      },
      "source": [
        "a = make_prediction(\"1.png\")\n",
        "b = make_prediction(\"2.png\")\n",
        "\n",
        "plt.figure()\n",
        "\n",
        "#subplot(r,c) provide the no. of rows and columns\n",
        "f, axarr = plt.subplots(1,2,figsize=(15,15)) \n",
        "\n",
        "# use the created array to output your multiple images. In this case I have stacked 4 images vertically\n",
        "axarr[0].imshow(a)\n",
        "axarr[1].imshow(b)\n",
        "\n",
        "\n",
        "print (\"\")\n",
        "print (\"\")\n",
        "print (\"\")\n",
        "print (\"\")"
      ],
      "execution_count": 0,
      "outputs": [
        {
          "output_type": "stream",
          "text": [
            "[3]\n",
            "[2]\n",
            "\n",
            "\n",
            "\n",
            "\n"
          ],
          "name": "stdout"
        },
        {
          "output_type": "display_data",
          "data": {
            "text/plain": [
              "<Figure size 432x288 with 0 Axes>"
            ]
          },
          "metadata": {
            "tags": []
          }
        },
        {
          "output_type": "display_data",
          "data": {
            "image/png": "[encoded data removed]",
            "text/plain": [
              "<Figure size 1080x1080 with 2 Axes>"
            ]
          },
          "metadata": {
            "tags": []
          }
        }
      ]
    },
    {
      "cell_type": "code",
      "metadata": {
        "id": "-HfbkMRjIfH7",
        "colab_type": "code",
        "outputId": "42af879f-0eec-4ce5-d022-d5a4597d9270",
        "colab": {
          "base_uri": "https://localhost:8080/",
          "height": 541
        }
      },
      "source": [
        "a = make_prediction(\"9.png\")\n",
        "b = make_prediction(\"10.png\")\n",
        "\n",
        "plt.figure()\n",
        "\n",
        "#subplot(r,c) provide the no. of rows and columns\n",
        "f, axarr = plt.subplots(1,2,figsize=(15,15)) \n",
        "\n",
        "\n",
        "axarr[0].imshow(a)\n",
        "axarr[1].imshow(b)\n",
        "\n",
        "\n",
        "print (\"\")\n",
        "print (\"\")\n",
        "print (\"\")\n",
        "print (\"\")"
      ],
      "execution_count": 0,
      "outputs": [
        {
          "output_type": "stream",
          "text": [
            "[3]\n",
            "[2]\n",
            "\n",
            "\n",
            "\n",
            "\n"
          ],
          "name": "stdout"
        },
        {
          "output_type": "display_data",
          "data": {
            "text/plain": [
              "<Figure size 432x288 with 0 Axes>"
            ]
          },
          "metadata": {
            "tags": []
          }
        },
        {
          "output_type": "display_data",
          "data": {
            "image/png": "[encoded data removed]",
            "text/plain": [
              "<Figure size 1080x1080 with 2 Axes>"
            ]
          },
          "metadata": {
            "tags": []
          }
        }
      ]
    },
    {
      "cell_type": "code",
      "metadata": {
        "id": "mnZIxfDF-nwX",
        "colab_type": "code",
        "outputId": "6ebf057a-dda7-45bb-b382-b6cd722ecfdb",
        "colab": {
          "base_uri": "https://localhost:8080/",
          "height": 541
        }
      },
      "source": [
        "a = make_prediction(\"11.png\")\n",
        "b = make_prediction(\"12.png\")\n",
        "\n",
        "plt.figure()\n",
        "\n",
        "#subplot(r,c) provide the no. of rows and columns\n",
        "f, axarr = plt.subplots(1,2,figsize=(15,15)) \n",
        "\n",
        "\n",
        "axarr[0].imshow(a)\n",
        "axarr[1].imshow(b)\n",
        "\n",
        "\n",
        "print (\"\")\n",
        "print (\"\")\n",
        "print (\"\")\n",
        "print (\"\")"
      ],
      "execution_count": 0,
      "outputs": [
        {
          "output_type": "stream",
          "text": [
            "[1]\n",
            "[1]\n",
            "\n",
            "\n",
            "\n",
            "\n"
          ],
          "name": "stdout"
        },
        {
          "output_type": "display_data",
          "data": {
            "text/plain": [
              "<Figure size 432x288 with 0 Axes>"
            ]
          },
          "metadata": {
            "tags": []
          }
        },
        {
          "output_type": "display_data",
          "data": {
            "image/png": "[encoded data removed]",
            "text/plain": [
              "<Figure size 1080x1080 with 2 Axes>"
            ]
          },
          "metadata": {
            "tags": []
          }
        }
      ]
    }
  ]
}